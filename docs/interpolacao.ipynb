{
 "cells": [
  {
   "cell_type": "markdown",
   "id": "b11cbb2f",
   "metadata": {},
   "source": [
    "# Interpolação bilinear\n",
    "\n",
    "## Para que serve?\n",
    "\n",
    "Código para realizar a interpolação bilinear de uma imagem RGB. Trata-se de uma adaptação da técnica em que para cada pixel é feita a média ponderada dos pixels ao seu redor, considerando que quanto mais perto maior é o peso na média. Esse código foi utilizado apenas para fins de teste com as imagens geradas pelo produto dos ventos e há diversas otimizações que podem ser feitas.\n",
    "\n",
    "## Biblioteca utilizada:"
   ]
  },
  {
   "cell_type": "code",
   "execution_count": null,
   "id": "f967fadd",
   "metadata": {},
   "outputs": [],
   "source": [
    "from PIL import Image"
   ]
  },
  {
   "cell_type": "markdown",
   "id": "1c1f643c",
   "metadata": {},
   "source": [
    "Primeiramente, abre-se a imagem que se deseja fazer a interpolação (deve ser uma imagem RGB, no formato png ou jpg), coloca-se o diretório desta na variável im, como mostrado abaixo. A partir dela, também é extraída sua altura e largura."
   ]
  },
  {
   "cell_type": "code",
   "execution_count": null,
   "id": "20fbc71a",
   "metadata": {},
   "outputs": [],
   "source": [
    "def bilinear():\n",
    "    im = Image.open(f'C:\\\\Gaia Senses\\\\python_goes\\\\DMW\\\\14.png') \n",
    "    pix = im.load()\n",
    "    width, height = im.size"
   ]
  },
  {
   "cell_type": "markdown",
   "id": "c092e1a4",
   "metadata": {},
   "source": [
    "A interpolação é feita por partes para cada componente RGB do pixel, no caso das imagens trabalhadas no produto dos ventos a componente z do pixel é zerada, então não é necessário fazer a interpolação para ela. Começando primeiro com a componente x (i = 0) então, temos que é somado a contribuição de cada componente x de cada pixel ao seu redor (desde que esteja dentro da imagem, por isso a checagem do if), isso inclui o pixel de cima, de baixo, dos lados e diagonais. Sendo que isso é feito em um raio k, em que quanto mais distante, menor é o peso (contribuição) deste pixel no somatório. Na variável total é feita o somatório dos pesos (sendo que o peso inicial é arbitrário, mas deve ser maior que k), para que possa ser feita a média ponderada. Por fim, se o total for diferente de 0, o valor da componente x do pixel é atualizado com essa média ponderada. "
   ]
  },
  {
   "cell_type": "code",
   "execution_count": null,
   "id": "26970c22",
   "metadata": {},
   "outputs": [],
   "source": [
    "    i = 0\n",
    "    for pixel_x in range(width):\n",
    "        for pixel_y in range(height):\n",
    "            sum = 0\n",
    "            peso = 7\n",
    "            total = 0\n",
    "            for k in range(1, 4):\n",
    "                if (403 > (pixel_x + k) > 0) and (389 > (pixel_y + k) > 0):\n",
    "                    sum += ((pix[(pixel_x + k), (pixel_y + k)][i]) * peso)\n",
    "                    total += peso\n",
    "                if (403 > (pixel_x - k) > 0) and (389 > (pixel_y - k) > 0):\n",
    "                    sum += ((pix[(pixel_x - k), (pixel_y - k)][i]) * peso)\n",
    "                    total += peso\n",
    "                if (403 > (pixel_x - k) > 0) and (389 > (pixel_y + k) > 0):\n",
    "                    sum += (pix[(pixel_x - k), (pixel_y + k)][i] * peso)\n",
    "                    total += peso\n",
    "                if (403 > (pixel_x + k) > 0) and (389 > (pixel_y - k) > 0):\n",
    "                    sum += (pix[(pixel_x + k), (pixel_y - k)][i] * peso)\n",
    "                    total += peso\n",
    "                if (403 > (pixel_x + k) > 0) and (389 > (pixel_y) > 0):\n",
    "                    sum += (pix[(pixel_x + k), (pixel_y)][i] * peso) \n",
    "                    total += peso\n",
    "                if (403 > (pixel_x - k) > 0) and (389 > (pixel_y) > 0):\n",
    "                    sum += (pix[(pixel_x - k), (pixel_y)][i] * peso)\n",
    "                    total += peso\n",
    "                if (403 > (pixel_x) > 0) and (389 > (pixel_y - k) > 0):\n",
    "                    sum += (pix[(pixel_x), (pixel_y - k)][i] * peso)\n",
    "                    total += peso\n",
    "                if (403 > (pixel_x) > 0) and (389 > (pixel_y + k) > 0):\n",
    "                    sum += (pix[(pixel_x), (pixel_y + k)][i] * peso)\n",
    "                    total += peso\n",
    "                peso -= 1\n",
    "              \n",
    "            if total != 0:\n",
    "                pix[pixel_x, pixel_y] = (int(sum/total), pix[pixel_x, pixel_y][1], 0)"
   ]
  },
  {
   "cell_type": "markdown",
   "id": "511a0bb6",
   "metadata": {},
   "source": [
    "A mesma lógica é utilizada analogamente para a componente y do pixel, como visto abaixo. Ao final, a imagem nova interpolada é salva no diretório descrito."
   ]
  },
  {
   "cell_type": "code",
   "execution_count": null,
   "id": "1be9cf90",
   "metadata": {},
   "outputs": [],
   "source": [
    "    i = 1\n",
    "    for pixel_x in range(width):\n",
    "        for pixel_y in range(height):\n",
    "            sum = 0\n",
    "            peso = 7\n",
    "            total = 0\n",
    "            for k in range(1, 4):\n",
    "                if (403 > (pixel_x + k) > 0) and (389 > (pixel_y + k) > 0):\n",
    "                    sum += ((pix[(pixel_x + k), (pixel_y + k)][i]) * peso)\n",
    "                    total += peso\n",
    "                if (403 > (pixel_x - k) > 0) and (389 > (pixel_y - k) > 0):\n",
    "                    sum += ((pix[(pixel_x - k), (pixel_y - k)][i]) * peso)\n",
    "                    total += peso\n",
    "                if (403 > (pixel_x - k) > 0) and (389 > (pixel_y + k) > 0):\n",
    "                    sum += (pix[(pixel_x - k), (pixel_y + k)][i] * peso)\n",
    "                    total += peso\n",
    "                if (403 > (pixel_x + k) > 0) and (389 > (pixel_y - k) > 0):\n",
    "                    sum += (pix[(pixel_x + k), (pixel_y - k)][i] * peso)\n",
    "                    total += peso\n",
    "                if (403 > (pixel_x + k) > 0) and (389 > (pixel_y) > 0):\n",
    "                    sum += (pix[(pixel_x + k), (pixel_y)][i] * peso) \n",
    "                    total += peso\n",
    "                if (403 > (pixel_x - k) > 0) and (389 > (pixel_y) > 0):\n",
    "                    sum += (pix[(pixel_x - k), (pixel_y)][i] * peso)\n",
    "                    total += peso\n",
    "                if (403 > (pixel_x) > 0) and (389 > (pixel_y - k) > 0):\n",
    "                    sum += (pix[(pixel_x), (pixel_y - k)][i] * peso)\n",
    "                    total += peso\n",
    "                if (403 > (pixel_x) > 0) and (389 > (pixel_y + k) > 0):\n",
    "                    sum += (pix[(pixel_x), (pixel_y + k)][i] * peso)\n",
    "                    total += peso\n",
    "                peso -= 1\n",
    "              \n",
    "            if total != 0:\n",
    "                pix[pixel_x, pixel_y] = (pix[pixel_x, pixel_y][0], int(sum/total), 0)\n",
    "\n",
    "    im.save(f'C:\\\\Gaia Senses\\\\python_goes\\\\DMW\\\\15.png', transparent=True, bbox_inches='tight')\n",
    "\n",
    "bilinear()"
   ]
  }
 ],
 "metadata": {
  "kernelspec": {
   "display_name": "Python 3 (ipykernel)",
   "language": "python",
   "name": "python3"
  },
  "language_info": {
   "codemirror_mode": {
    "name": "ipython",
    "version": 3
   },
   "file_extension": ".py",
   "mimetype": "text/x-python",
   "name": "python",
   "nbconvert_exporter": "python",
   "pygments_lexer": "ipython3",
   "version": "3.9.12"
  }
 },
 "nbformat": 4,
 "nbformat_minor": 5
}
