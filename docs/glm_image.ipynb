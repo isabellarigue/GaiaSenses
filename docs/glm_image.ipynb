{
 "cells": [
  {
   "cell_type": "markdown",
   "id": "7c90d5bd",
   "metadata": {},
   "source": [
    "# GLM image (produto dos raios)\n",
    "\n",
    "## Para que serve?\n",
    "Código para baixar e tratar dados do satélite do tipo GLM (geostationary lightning mapper), ou seja, mapeador de relâmpagos em órbita geoestacionária. Os arquivos possuem o formato NetCDF e é feita uma filtragem dos dados, selecionando apenas os que estão na extensão geográfica desejada. Ao final, é feito um plot dessas informações, resultando em uma imagem png. Por padrão, é sempre baixado o arquivo mais recente, ou seja, o último disponível no servidor.\n",
    "\n",
    "## Bibliotecas necessárias:"
   ]
  },
  {
   "cell_type": "code",
   "execution_count": null,
   "id": "60c1fde7",
   "metadata": {},
   "outputs": [],
   "source": [
    "# Required modules\n",
    "from netCDF4 import Dataset                           # Read / Write NetCDF4 files\n",
    "import matplotlib.pyplot as plt                       # Plotting library\n",
    "import cartopy, cartopy.crs as ccrs                   # Plot maps\n",
    "from datetime import datetime                         # Basic Dates and time types\n",
    "import os                                             # Miscellaneous operating system interfaces\n",
    "from osgeo import gdal                                # Python bindings for GDAL\n",
    "import cartopy.io.shapereader as shpreader            # Import shapefiles\n",
    "import boto3                                          # Amazon Web Services (AWS) SDK for Python\n",
    "from botocore import UNSIGNED                         # boto3 config\n",
    "from botocore.config import Config                    # boto3 config\n",
    "gdal.PushErrorHandler('CPLQuietErrorHandler')         # Ignore GDAL warnings"
   ]
  },
  {
   "cell_type": "markdown",
   "id": "530b1b4a",
   "metadata": {},
   "source": [
    "## Detalhando o código...\n",
    "\n",
    "Abaixo temos a função para download do arquivo nc do tipo GLM, faz-se uma conexão com o servidor da Amazon Web Services através da biblioteca boto3, e então baixa-se o arquivo buscando-o pelo satélite e data escolhida."
   ]
  },
  {
   "cell_type": "code",
   "execution_count": null,
   "id": "10021e31",
   "metadata": {},
   "outputs": [],
   "source": [
    "def download_GLM(yyyymmddhhmnss, path_dest, bucket_name):\n",
    "\n",
    "  os.makedirs(path_dest, exist_ok=True)\n",
    "\n",
    "  year = datetime.strptime(yyyymmddhhmnss, '%Y%m%d%H%M%S').strftime('%Y')\n",
    "  day_of_year = datetime.strptime(yyyymmddhhmnss, '%Y%m%d%H%M%S').strftime('%j')\n",
    "  hour = datetime.strptime(yyyymmddhhmnss, '%Y%m%d%H%M%S').strftime('%H')\n",
    "  min = datetime.strptime(yyyymmddhhmnss, '%Y%m%d%H%M%S').strftime('%M')\n",
    "  seg = datetime.strptime(yyyymmddhhmnss, '%Y%m%d%H%M%S').strftime('%S')\n",
    "\n",
    "  # Initializes the S3 client\n",
    "  s3_client = boto3.client('s3', config=Config(signature_version=UNSIGNED))\n",
    "\n",
    "  # File structure\n",
    "  product_name = \"GLM-L2-LCFA\"\n",
    "  prefix = f'{product_name}/{year}/{day_of_year}/{hour}/OR_{product_name}_G16_s{year}{day_of_year}{hour}{min}{seg}'\n",
    "\n",
    "  # Seach for the file on the server\n",
    "  s3_result = s3_client.list_objects_v2(Bucket=bucket_name, Prefix=prefix, Delimiter = \"/\")\n",
    "\n",
    "  # Check if there are files available\n",
    "  if 'Contents' not in s3_result: \n",
    "    print(f'No files found for the date: {yyyymmddhhmnss}, Product-{product_name}')\n",
    "    return -1\n",
    "  else:\n",
    "    for obj in s3_result['Contents']: \n",
    "      key = obj['Key']\n",
    "      file_name = key.split('/')[-1].split('.')[0]\n",
    "      if os.path.exists(f'{path_dest}/{file_name}.nc'):\n",
    "        print(f'File {path_dest}/{file_name}.nc exists')\n",
    "      else:\n",
    "        print(f'Downloading file {path_dest}/{file_name}.nc')\n",
    "        s3_client.download_file(bucket_name, key, f'{path_dest}/{file_name}.nc')\n",
    "  return f'{file_name}'"
   ]
  },
  {
   "cell_type": "markdown",
   "id": "c4df2728",
   "metadata": {},
   "source": [
    "Primeiramente, define-se algumas variáveis:\n",
    "\n",
    "- input: diretório em que ficarão os arquivos nc a serem baixados\n",
    "- output: diretório em que ficará a imagem png gerada\n",
    "- extent: recorte da extensão desejada, deve-se colocar a mínima longitude, mínima latitude, máxima longitude e máxima latitude, respectivamente. Os valores abaixo são do recorte do Brasil\n",
    "- bucket_name: nome do satélite \n",
    "- title: título da imagem a ser gerada, também será o nome utilizado para salvar o aqruivo"
   ]
  },
  {
   "cell_type": "code",
   "execution_count": null,
   "id": "04de6e2c",
   "metadata": {},
   "outputs": [],
   "source": [
    "# Input and output directories\n",
    "input = \"Samples\"; os.makedirs(input, exist_ok=True)\n",
    "output = \"Output\"; os.makedirs(output, exist_ok=True)\n",
    "\n",
    "# Desired data:\n",
    "extent = [-75.0, -34, -34, 5.5]\n",
    "bucket_name = 'noaa-goes16'\n",
    "title = \"GLM\""
   ]
  },
  {
   "cell_type": "markdown",
   "id": "1b75c1f2",
   "metadata": {},
   "source": [
    "Então, é baixado o arquivo mais recente disponível no servidor, ou seja, com a data dos últimos 20 segundos (é feita essa conta e formatação com a biblioteca datetime). Outrossim, o arquivo é lido e suas variáveis internas (latitudes e longitudes do acontecimento) são separadas em novas variáveis no código. É importante destacar que há uma classificação do nível do relâmpago:\n",
    "- Eventos: qualquer pixel iluminado durante um período de 2 microssegundos\n",
    "- Grupos: uma coleção de um ou mais eventos que satisfazem os limites de coincidência temporal e espacial\n",
    "- Flashs: uma coleção de um ou mais grupos que satisfazem os limites de coincidência temporal e espacial."
   ]
  },
  {
   "cell_type": "code",
   "execution_count": null,
   "id": "0fa76221",
   "metadata": {},
   "outputs": [],
   "source": [
    "# Get the GLM Data\n",
    "seconds = int(datetime.now().strftime('%S'))\n",
    "yyyymmddhhmnss = datetime.now().strftime('%Y%m%d%H%M' + str(seconds - (seconds % 20))) \n",
    "fileGLM = download_GLM(yyyymmddhhmnss, input, bucket_name)\n",
    "glm = Dataset(f'{input}/{fileGLM}.nc')\n",
    "\n",
    "e_lats = glm.variables['event_lat'][:]\n",
    "e_lons = glm.variables['event_lon'][:]\n",
    "\n",
    "g_lats = glm.variables['group_lat'][:]\n",
    "g_lons = glm.variables['group_lon'][:]\n",
    "\n",
    "f_lats = glm.variables['flash_lat'][:]\n",
    "f_lons = glm.variables['flash_lon'][:] "
   ]
  },
  {
   "cell_type": "markdown",
   "id": "47bcee12",
   "metadata": {},
   "source": [
    "No bloco abaixo ocorrem as configurações do plot da imagem, como o tamanho, o número de pixels, extensão geográfica, etc. "
   ]
  },
  {
   "cell_type": "code",
   "execution_count": null,
   "id": "a9e83908",
   "metadata": {},
   "outputs": [],
   "source": [
    "# Choose the plot size (width x height, in inches)\n",
    "dpi = 125\n",
    "plt.figure(figsize=(10,10), dpi=dpi)\n",
    "\n",
    "# Use the Geostationary projection in cartopy\n",
    "ax = plt.axes(projection=ccrs.PlateCarree())\n",
    "\n",
    "# Define the image extent\n",
    "ax.set_extent([extent[0], extent[2], extent[1], extent[3]], ccrs.PlateCarree())\n",
    "\n",
    "# Define the data extent\n",
    "img_extent = [extent[0], extent[2], extent[1], extent[3]]"
   ]
  },
  {
   "cell_type": "markdown",
   "id": "c01bd4ef",
   "metadata": {},
   "source": [
    "A partir daqui é feito o plot dos eventos, grupos e flashes, definindo a cor ('.r','.y', '.g'), tamanho (markersize), opacidade (alpha) e legenda (label). É interessante notar algumas outras configurações de estilo, como shapefile, que é um arquivo a parte que coloca o desenho do contorno dos estados do Brasil (no caso), de acordo com a cor e tamanho desejados, mas lembre-se que este deve estar na mesma pasta do código (ou indicar outro diretório) para funcionar. Também são adicionadas linhas de fronteira, bordas e linhas de grade, as quais podem ser configuradas. Há algumas linhas comentadas, que podem ser adicionadas caso desejado, por exemplo o título da imagem. Esse é um exemplo de estética do plot que foi satisfatório, mas que pode ser alterado conforme outras preferências."
   ]
  },
  {
   "cell_type": "code",
   "execution_count": null,
   "id": "4efedcb9",
   "metadata": {},
   "outputs": [],
   "source": [
    "# Plot the image\n",
    "img2 = ax.plot(e_lons,e_lats,'.r', markersize=3, transform=ccrs.PlateCarree(), alpha=1, label=\"events\")\n",
    "img3 = ax.plot(g_lons,g_lats,'.y', markersize=6, transform=ccrs.PlateCarree(), alpha=1, label=\"groups\")\n",
    "img4 = ax.plot(f_lons,f_lats,'.g', markersize=3.5, transform=ccrs.PlateCarree(), alpha=1, label=\"flashs\")\n",
    "\n",
    "# Add a shapefile\n",
    "# https://geoftp.ibge.gov.br/organizacao_do_territorio/malhas_territoriais/malhas_municipais/municipio_2019/Brasil/BR/br_unidades_da_federacao.zip\n",
    "shapefile = list(shpreader.Reader('BR_UF_2019.shp').geometries())\n",
    "ax.add_geometries(shapefile, ccrs.PlateCarree(), edgecolor='black',facecolor='none', linewidth=0.7)\n",
    "\n",
    "# Add coastlines, borders and gridlines\n",
    "ax.coastlines(resolution='10m', color='black', linewidth=0.8, zorder=3)\n",
    "ax.add_feature(cartopy.feature.BORDERS, edgecolor='black', linewidth=0.5, zorder=4)\n",
    "#gl = ax.gridlines(crs=ccrs.PlateCarree(), color='gray', alpha=1.0, linestyle='--', linewidth=0.25, xlocs=np.arange(-180, 180, 5), ylocs=np.arange(-90, 90, 5), draw_labels=True)\n",
    "#gl.top_labels = False\n",
    "#gl.right_labels = False\n",
    "\n",
    "plt.legend()\n",
    "\n",
    "# Add a title\n",
    "#plt.title(title, fontweight='bold', fontsize=10, loc='left')\n",
    "#plt.title(datetime.strptime(yyyymmddhhmnss, '%Y%m%d%H%M').strftime('%Y-%m-%d %H:%M'), fontsize=10, loc='right')"
   ]
  },
  {
   "cell_type": "markdown",
   "id": "9e44a113",
   "metadata": {},
   "source": [
    "Por fim, a imagem é salva no formato png e mostrada na tela."
   ]
  },
  {
   "cell_type": "code",
   "execution_count": null,
   "id": "7e46dd5a",
   "metadata": {},
   "outputs": [],
   "source": [
    "# Save the image\n",
    "plt.savefig(f'{output}/{title}{yyyymmddhhmnss}.png', transparent=True, bbox_inches='tight')\n",
    "\n",
    "# Show the image\n",
    "plt.show()"
   ]
  },
  {
   "cell_type": "markdown",
   "id": "799e438c",
   "metadata": {},
   "source": [
    "Cabe ressaltar que o código foi feito com a ajuda do curso “Processamento de Dados de Satélites Geoestacionários com Python” fornecido pelo INPE (Instituto Nacional de Pesquisas Espaciais)."
   ]
  }
 ],
 "metadata": {
  "kernelspec": {
   "display_name": "Python 3 (ipykernel)",
   "language": "python",
   "name": "python3"
  },
  "language_info": {
   "codemirror_mode": {
    "name": "ipython",
    "version": 3
   },
   "file_extension": ".py",
   "mimetype": "text/x-python",
   "name": "python",
   "nbconvert_exporter": "python",
   "pygments_lexer": "ipython3",
   "version": "3.9.12"
  }
 },
 "nbformat": 4,
 "nbformat_minor": 5
}
