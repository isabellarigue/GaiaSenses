{
 "cells": [
  {
   "cell_type": "markdown",
   "id": "3d67365a",
   "metadata": {},
   "source": [
    "# ABI Download loop\n",
    "\n",
    "## Para que serve?\n",
    "\n",
    "Código para realizar o download de arquivos NetCDF (nc) do tipo ABI (nesse caso voltado para o produto das chuvas) de um determinado dia e região geográfica. Também é feito um leve tratamento dos dados, no caso das chuvas é feito um plot da quantidade de precipitação, seguido da normalização dos valores, resultando em uma imagem preta e branca (para cada hora), em que quanto mais preto maior a quantidade de precipitação naquela região.\n",
    "\n",
    "## Bibliotecas necessárias:"
   ]
  },
  {
   "cell_type": "code",
   "execution_count": null,
   "id": "34e377df",
   "metadata": {},
   "outputs": [],
   "source": [
    "from netCDF4 import Dataset                     # Read / Write NetCDF4 files\n",
    "from datetime import datetime                   # Basic Dates and time types\n",
    "import os                                       # Miscellaneous operating system interfaces\n",
    "from osgeo import gdal                          # Python bindings for GDAL\n",
    "from osgeo import osr                           # Python bindings for GDAL\n",
    "import numpy as np                              # Scientific computing with Python\n",
    "from matplotlib import cm                       # Colormap handling utilities\n",
    "import boto3                                    # Amazon Web Services (AWS) SDK for Python\n",
    "from botocore import UNSIGNED                   # boto3 config\n",
    "from botocore.config import Config              # boto3 config\n",
    "from PIL import Image\n",
    "gdal.PushErrorHandler('CPLQuietErrorHandler')   # Ignore GDAL warnings"
   ]
  },
  {
   "cell_type": "markdown",
   "id": "bc743c4b",
   "metadata": {},
   "source": [
    "## Detalhando o código...\n",
    "\n",
    "Abaixo temos a função para mudar a projeção cartográfica de acordo com a extensão desejada:"
   ]
  },
  {
   "cell_type": "code",
   "execution_count": null,
   "id": "c85bbb05",
   "metadata": {},
   "outputs": [],
   "source": [
    "def reproject(file_name, ncfile, array, extent, undef):\n",
    "\n",
    "    # Read the original file projection and configure the output projection\n",
    "    source_prj = osr.SpatialReference()\n",
    "    source_prj.ImportFromProj4(ncfile.GetProjectionRef())\n",
    "    target_prj = osr.SpatialReference()\n",
    "    target_prj.ImportFromProj4(\"+proj=longlat +ellps=WGS84 +datum=WGS84 +no_defs\")\n",
    "   \n",
    "    # Reproject the data\n",
    "    GeoT = ncfile.GetGeoTransform()\n",
    "    driver = gdal.GetDriverByName('MEM')\n",
    "    raw = driver.Create('raw', array.shape[0], array.shape[1], 1, gdal.GDT_Float32)\n",
    "    raw.SetGeoTransform(GeoT)\n",
    "    raw.GetRasterBand(1).WriteArray(array)\n",
    "\n",
    "    # Define the parameters of the output file  \n",
    "    kwargs = {'format': 'netCDF', \\\n",
    "            'srcSRS': source_prj, \\\n",
    "            'dstSRS': target_prj, \\\n",
    "            'outputBounds': (extent[0], extent[3], extent[2], extent[1]), \\\n",
    "            'outputBoundsSRS': target_prj, \\\n",
    "            'outputType': gdal.GDT_Float32, \\\n",
    "            'srcNodata': undef, \\\n",
    "            'dstNodata': 'nan', \\\n",
    "            'resampleAlg': gdal.GRA_NearestNeighbour}\n",
    "\n",
    "    # Write the reprojected file on disk\n",
    "    gdal.Warp(file_name, raw, **kwargs)"
   ]
  },
  {
   "cell_type": "markdown",
   "id": "f87a98d6",
   "metadata": {},
   "source": [
    "A seguir, temos a função para download do arquivo nc, faz-se uma conexão com o servidor da Amazon Web Services através da biblioteca boto3, e então baixa-se o arquivo buscando-o pelo nome e data escolhida."
   ]
  },
  {
   "cell_type": "code",
   "execution_count": null,
   "id": "fb56d995",
   "metadata": {},
   "outputs": [],
   "source": [
    "def download_PROD(yyyymmddhhmn, product_name, path_dest, bucket_name):\n",
    "\n",
    "  os.makedirs(path_dest, exist_ok=True)\n",
    "\n",
    "  year = datetime.strptime(yyyymmddhhmn, '%Y%m%d%H%M').strftime('%Y')\n",
    "  day_of_year = datetime.strptime(yyyymmddhhmn, '%Y%m%d%H%M').strftime('%j')\n",
    "  hour = datetime.strptime(yyyymmddhhmn, '%Y%m%d%H%M').strftime('%H')\n",
    "  min = datetime.strptime(yyyymmddhhmn, '%Y%m%d%H%M').strftime('%M')\n",
    "\n",
    "  # Initializes the S3 client\n",
    "  s3_client = boto3.client('s3', config=Config(signature_version=UNSIGNED))\n",
    "\n",
    "  # File structure\n",
    "  prefix = f'{product_name}/{year}/{day_of_year}/{hour}/OR_{product_name}-M6_G16_s{year}{day_of_year}{hour}{min}'\n",
    "\n",
    "  # Seach for the file on the server\n",
    "  s3_result = s3_client.list_objects_v2(Bucket=bucket_name, Prefix=prefix, Delimiter = \"/\")\n",
    "\n",
    "  # Check if there are files available\n",
    "  if 'Contents' not in s3_result: \n",
    "    # There are no files\n",
    "    print(f'No files found for the date: {yyyymmddhhmn}, Product-{product_name}')\n",
    "    return -1\n",
    "  else:\n",
    "    # There are files\n",
    "    for obj in s3_result['Contents']: \n",
    "      key = obj['Key']\n",
    "      # Print the file name\n",
    "      file_name = key.split('/')[-1].split('.')[0]\n",
    "\n",
    "      # Download the file\n",
    "      if os.path.exists(f'{path_dest}/{file_name}.nc'):\n",
    "        print(f'File {path_dest}/{file_name}.nc exists')\n",
    "      else:\n",
    "        print(f'Downloading file {path_dest}/{file_name}.nc')\n",
    "        s3_client.download_file(bucket_name, key, f'{path_dest}/{file_name}.nc')\n",
    "  return f'{file_name}'"
   ]
  },
  {
   "cell_type": "markdown",
   "id": "c038c0e2",
   "metadata": {},
   "source": [
    "Primeiramente, define-se algumas variáveis:\n",
    "- input: diretório em que ficarão os arquivos nc a serem baixados\n",
    "- output: diretório em que ficarão os arquivos nc reprojetados e as imagens normalizadas do plot \n",
    "- extent: recorte da extensão desejada, deve-se colocar a mínima longitude, mínima latitude, máxima longitude e máxima latitude, respectivamente. Os valores abaixo são do recorte do Brasil\n",
    "- bucket_name: nome do satélite \n",
    "- product_name: nome do produto desejado, deve ser escrito exatamente como no site da Amazon (servidor utilizado)\n",
    "- var: variável desejada do produto. É possível visualizar as variáveis disponíveis extraindo o conteúdo do arquivo nc, o que pode ser feito com Matlab (buscar pelo comando ncdisp)\n",
    "\n",
    "As informações usadas nesse código são voltadas para o produto das chuvas (\"ABI-L2-RRQPEF\"), sendo a variável a quantidade de precipitação ('RRQPE'). Contudo, o código pode ser adaptado para outros produtos que sejam do tipo ABI, que seguem esse mesmo modelo, seria apenas necessário trocar o product_name e a var."
   ]
  },
  {
   "cell_type": "code",
   "execution_count": null,
   "id": "44560de3",
   "metadata": {},
   "outputs": [],
   "source": [
    "# Input and output directories\n",
    "input = \"Samples\"; os.makedirs(input, exist_ok=True)\n",
    "output = \"Rainfall\"; os.makedirs(output, exist_ok=True)\n",
    "\n",
    "# Desired data:\n",
    "extent = [-75.0, -34, -34, 5.5] # Min lon, Min lat, Max lon, Max lat\n",
    "bucket_name = 'noaa-goes16'\n",
    "product_name = \"ABI-L2-RRQPEF\"\n",
    "var = 'RRQPE'"
   ]
  },
  {
   "cell_type": "markdown",
   "id": "7a2c8daa",
   "metadata": {},
   "source": [
    "A partir daqui inicia-se o loop que irá baixar todos os arquivos do produto selecionado (\"ABI-L2-RRQPEF\") a cada hora de um dia escolhido. Coloca-se o dia, mês e ano desejados. Essa parte também pode ser adaptada para baixar todos os arquivos de um mês, entre outras coisas, seria basicamente colocar um loop mais externo para tal. Até o momento, apenas essa funcionalidade já foi suficiente, portanto está dessa forma mais simples."
   ]
  },
  {
   "cell_type": "code",
   "execution_count": null,
   "id": "1a0cd5c8",
   "metadata": {},
   "outputs": [],
   "source": [
    "hour = 0 # First hour\n",
    "day = '18' \n",
    "year = '2021'\n",
    "month = '12'\n",
    "while (hour < 24):\n",
    "    array = np.zeros((5424,5424))\n",
    "    if hour < 10:\n",
    "        hour_str = \"0\" + str(hour)\n",
    "    else:\n",
    "        hour_str = str(hour)\n",
    "    yyyymmddhhmn = datetime.now().strftime(year + month + day + hour_str + \"00\") # Concatenating the date string that will be fetched from the server"
   ]
  },
  {
   "cell_type": "markdown",
   "id": "3dbbbc14",
   "metadata": {},
   "source": [
    "Dando continuidade, o arquivo é baixado e lido, é aplicada a flag de qualidade, são retirados valores nulos e é aplicada a escala (dada pelo próprio arquivo). Outrossim, é feita a reprojeção e esse novo arquivo reprojetado é carregado, sendo que apenas este será tratado adiante."
   ]
  },
  {
   "cell_type": "code",
   "execution_count": null,
   "id": "3efabfa2",
   "metadata": {},
   "outputs": [],
   "source": [
    "    # Download and open the file\n",
    "    file_name = download_PROD(yyyymmddhhmn, product_name, input, bucket_name)\n",
    "    img = gdal.Open(f'NETCDF:{input}/{file_name}.nc:' + var)\n",
    "    dqf = gdal.Open(f'NETCDF:{input}/{file_name}.nc:DQF')\n",
    "\n",
    "    # Read the header metadata\n",
    "    metadata = img.GetMetadata()\n",
    "    scale = float(metadata.get(var + '#scale_factor'))\n",
    "    offset = float(metadata.get(var + '#add_offset'))\n",
    "    undef = float(metadata.get(var + '#_FillValue'))\n",
    "\n",
    "    # Load the data\n",
    "    ds = img.ReadAsArray(0, 0, img.RasterXSize, img.RasterYSize).astype(float)\n",
    "    ds_dqf = dqf.ReadAsArray(0, 0, dqf.RasterXSize, dqf.RasterYSize).astype(float)\n",
    "\n",
    "    # Remove undef\n",
    "    ds[ds == undef] = np.nan\n",
    "\n",
    "    # Apply the scale and offset \n",
    "    ds = (ds * scale + offset)\n",
    "\n",
    "    # Apply NaN's where the quality flag is greater than 1\n",
    "    ds[ds_dqf > 1] = np.nan\n",
    "\n",
    "    # Reproject the file\n",
    "    array = np.nansum(np.dstack((array, ds)),2)\n",
    "    filename = f'{output}/{product_name}_{yyyymmddhhmn}_reprojected.nc'\n",
    "    reproject(filename, img, array, extent, undef)\n",
    "\n",
    "    # Open the reprojected GOES-R image\n",
    "    file = Dataset(filename)\n",
    "    data = file.variables['Band1'][:]\n",
    "    \n",
    "    # Modify the colormap to zero values are white\n",
    "    colormap = cm.get_cmap('binary', 240)\n",
    "    newcolormap = colormap(np.linspace(0, 1, 240))\n",
    "    newcolormap[:1, :] = np.array([1, 1, 1, 1])\n",
    "    cmap = cm.colors.ListedColormap(newcolormap)"
   ]
  },
  {
   "cell_type": "markdown",
   "id": "c4bfbc75",
   "metadata": {},
   "source": [
    "Por fim, é feita a normalização, resultando em uma imagem preta e branca do recorte geográfico selecionado (extent), em que quanto mais preto maior é a quantidade de precipitação na região. A imagem é salva como png no diretório output."
   ]
  },
  {
   "cell_type": "code",
   "execution_count": null,
   "id": "441e9a84",
   "metadata": {},
   "outputs": [],
   "source": [
    "    scaled = cmap(data)\n",
    "    scaled = np.uint8(scaled) * 255\n",
    "    im = Image.fromarray(scaled)\n",
    "    im.save(f'{output}/{product_name}_{year}-{month}-{day}_{hour_str}.png')\n",
    "\n",
    "    hour += 1"
   ]
  },
  {
   "cell_type": "markdown",
   "id": "49496965",
   "metadata": {},
   "source": [
    "Como trata-se de um loop, ao final terão várias imagens em sequência mostrando a variação da quantidade de precipitação ao longo do dia. A partir disso, pode-se ser feita uma bela animação."
   ]
  },
  {
   "cell_type": "markdown",
   "id": "e0d15b10",
   "metadata": {},
   "source": [
    "Cabe ressaltar que o código foi feito com a ajuda do curso “Processamento de Dados de Satélites Geoestacionários com Python” fornecido pelo INPE (Instituto Nacional de Pesquisas Espaciais)."
   ]
  }
 ],
 "metadata": {
  "kernelspec": {
   "display_name": "Python 3 (ipykernel)",
   "language": "python",
   "name": "python3"
  },
  "language_info": {
   "codemirror_mode": {
    "name": "ipython",
    "version": 3
   },
   "file_extension": ".py",
   "mimetype": "text/x-python",
   "name": "python",
   "nbconvert_exporter": "python",
   "pygments_lexer": "ipython3",
   "version": "3.9.12"
  }
 },
 "nbformat": 4,
 "nbformat_minor": 5
}
