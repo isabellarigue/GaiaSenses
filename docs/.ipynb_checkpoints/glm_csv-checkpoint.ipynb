{
 "cells": [
  {
   "cell_type": "markdown",
   "id": "81dd96ee",
   "metadata": {},
   "source": [
    "# GLM CSV (produto dos raios)\n",
    "\n",
    "## Para que serve?\n",
    "Código para baixar e tratar dados do satélite do tipo GLM (geostationary lightning mapper), ou seja, mapeador de relâmpagos em órbita geoestacionária. Os arquivos possuem o formato NetCDF e é feita uma transformação dos dados, colocando-os em um csv, com as informações de latitude, longitude e data/horário do acontecimento, juntando todos os dados de um intervalo de dias selecionados.\n",
    "\n",
    "## Bibliotecas necessárias:"
   ]
  },
  {
   "cell_type": "code",
   "execution_count": null,
   "id": "94fd72b1",
   "metadata": {},
   "outputs": [],
   "source": [
    "# Required modules\n",
    "from netCDF4 import Dataset                           # Read / Write NetCDF4 files\n",
    "from datetime import timedelta, datetime              # Basic Dates and time types\n",
    "import os                                             # Miscellaneous operating system interfaces\n",
    "from osgeo import gdal                                # Python bindings for GDAL\n",
    "import boto3                                          # Amazon Web Services (AWS) SDK for Python\n",
    "from botocore import UNSIGNED                         # boto3 config\n",
    "from botocore.config import Config                    # boto3 config\n",
    "import pandas as pd\n",
    "import pickle\n",
    "gdal.PushErrorHandler('CPLQuietErrorHandler')         # Ignore GDAL warnings"
   ]
  },
  {
   "cell_type": "markdown",
   "id": "0b4f6031",
   "metadata": {},
   "source": [
    "## Detalhando o código...\n",
    "\n",
    "Abaixo temos a função para download do arquivo nc do tipo GLM, faz-se uma conexão com o servidor da Amazon Web Services através da biblioteca boto3, e então baixa-se o arquivo buscando-o pelo satélite e data escolhida."
   ]
  },
  {
   "cell_type": "code",
   "execution_count": null,
   "id": "59cdf2cd",
   "metadata": {},
   "outputs": [],
   "source": [
    "def download_GLM(yyyymmddhhmnss, path_dest, bucket_name):\n",
    "\n",
    "  os.makedirs(path_dest, exist_ok=True)\n",
    "\n",
    "  year = datetime.strptime(yyyymmddhhmnss, '%Y%m%d%H%M%S').strftime('%Y')\n",
    "  day_of_year = datetime.strptime(yyyymmddhhmnss, '%Y%m%d%H%M%S').strftime('%j')\n",
    "  hour = datetime.strptime(yyyymmddhhmnss, '%Y%m%d%H%M%S').strftime('%H')\n",
    "  min = datetime.strptime(yyyymmddhhmnss, '%Y%m%d%H%M%S').strftime('%M')\n",
    "  seg = datetime.strptime(yyyymmddhhmnss, '%Y%m%d%H%M%S').strftime('%S')\n",
    "\n",
    "  # Initializes the S3 client\n",
    "  s3_client = boto3.client('s3', config=Config(signature_version=UNSIGNED))\n",
    "\n",
    "  # File structure\n",
    "  product_name = \"GLM-L2-LCFA\"\n",
    "  prefix = f'{product_name}/{year}/{day_of_year}/{hour}/OR_{product_name}_G16_s{year}{day_of_year}{hour}{min}{seg}'\n",
    "\n",
    "  # Seach for the file on the server\n",
    "  s3_result = s3_client.list_objects_v2(Bucket=bucket_name, Prefix=prefix, Delimiter = \"/\")\n",
    "\n",
    "  # Check if there are files available\n",
    "  if 'Contents' not in s3_result: \n",
    "    print(f'No files found for the date: {yyyymmddhhmnss}, Product-{product_name}')\n",
    "    return -1\n",
    "  else:\n",
    "    for obj in s3_result['Contents']: \n",
    "      key = obj['Key']\n",
    "      file_name = key.split('/')[-1].split('.')[0]\n",
    "      if os.path.exists(f'{path_dest}/{file_name}.nc'):\n",
    "        print(f'File {path_dest}/{file_name}.nc exists')\n",
    "      else:\n",
    "        print(f'Downloading file {path_dest}/{file_name}.nc')\n",
    "        s3_client.download_file(bucket_name, key, f'{path_dest}/{file_name}.nc')\n",
    "  return f'{file_name}'"
   ]
  },
  {
   "cell_type": "markdown",
   "id": "a4c906e8",
   "metadata": {},
   "source": [
    "Primeiramente, define-se algumas variáveis:\n",
    "\n",
    "- input: diretório em que ficarão os arquivos nc a serem baixados\n",
    "- output: diretório em que ficará o arquivo tratado csv \n",
    "- inicial_day: dia inicial do intervalo de dados desejados\n",
    "- final_day: último dia do intervalo de dados desejados\n",
    "- month: mês dos dados desejados\n",
    "- year: ano dos dados desejados \n",
    "- bucket_name: nome do satélite \n",
    "\n",
    "Algumas adaptações podem ser feitas, por exemplo coletar os dados com intervalo de meses ou anos, nesse caso basta alterar o loop. Também pode ser feita a implementação de colocar uma extensão geográfica desejada e filtrar apenas os dados que estejam dentro desta, facilmente pode ser feito com uma checagem em um if, porém até o momento não foi necessário."
   ]
  },
  {
   "cell_type": "code",
   "execution_count": null,
   "id": "f1674a14",
   "metadata": {},
   "outputs": [],
   "source": [
    "# Desired data:\n",
    "input = \"Samples\"; os.makedirs(input, exist_ok=True)\n",
    "output = \"GLM\"; os.makedirs(output, exist_ok=True)\n",
    "inicial_day  = 16\n",
    "final_day = 17\n",
    "month = 12\n",
    "year = 2021\n",
    "bucket_name = 'noaa-goes16'"
   ]
  },
  {
   "cell_type": "markdown",
   "id": "9675b094",
   "metadata": {},
   "source": [
    "Assim, é escrita a data inicial e final, com a ajuda da biblioteca datetime e inicia-se o loop para baixar os dados e ir adicionando eles em um data frame, com as informações de latitude, longitude e data/horário do acontecimento, a partir do auxílio da biblioteca pandas. Ao final soma-se 20 segundos na data atual, para recomeçar o loop com o próximo arquivo, uma vez que para produtos GLM o intervalo dos arquivos é a cada 20 segundos."
   ]
  },
  {
   "cell_type": "code",
   "execution_count": null,
   "id": "a7bb7dc7",
   "metadata": {},
   "outputs": [],
   "source": [
    "date_ini = str(datetime(year,month,inicial_day,0,0))\n",
    "date_end = str(datetime(year,month,final_day,0,0))\n",
    "primeiro = True\n",
    "\n",
    "while (date_ini <= date_end):\n",
    "    # Get the GLM Data\n",
    "    yyyymmddhhmnss = datetime.strptime(date_ini, '%Y-%m-%d %H:%M:%S').strftime('%Y%m%d%H%M%S')\n",
    "    fileGLM = download_GLM(yyyymmddhhmnss, input, bucket_name)\n",
    "    glm = Dataset(f'{input}/{fileGLM}.nc')\n",
    "\n",
    "    f_lats = glm.variables['flash_lat'][:]\n",
    "    f_lons = glm.variables['flash_lon'][:] \n",
    "\n",
    "    if (primeiro):\n",
    "        df_anterior = pd.DataFrame({\"lat\": f_lats, \"lon\": f_lons, \"time\": datetime.strptime(yyyymmddhhmnss, '%Y%m%d%H%M%S').strftime('%Y-%m-%d %H:%M:%S')})\n",
    "        primeiro = False\n",
    "    else:\n",
    "        df_1 = pd.DataFrame({\"lat\": f_lats, \"lon\": f_lons, \"time\": datetime.strptime(yyyymmddhhmnss, '%Y%m%d%H%M%S').strftime('%Y-%m-%d %H:%M:%S')})\n",
    "        df = df_anterior.append(df_1, ignore_index=True)\n",
    "        df_anterior = df\n",
    "\n",
    "    date_ini = str(datetime.strptime(date_ini, '%Y-%m-%d %H:%M:%S') + timedelta(seconds=20))"
   ]
  },
  {
   "cell_type": "markdown",
   "id": "4674ce59",
   "metadata": {},
   "source": [
    "Por fim, transforma-se esses dados em um csv. Vale mencionar que são muitos arquivos contidos em um único dia (uma vez que o intervalo é a cada 20 segundos), consequentemente são muitas informações, logo, a não ser que seja feita uma filtragem extra (com a extensão geográfica por exemplo), o arquivo final csv pode ficar extremamente grande dependendo do intervalo de dias escolhido."
   ]
  },
  {
   "cell_type": "code",
   "execution_count": null,
   "id": "5f3c2d69",
   "metadata": {},
   "outputs": [],
   "source": [
    "df.to_csv(f'{output}/flashs_{inicial_day}-{final_day}.csv')"
   ]
  },
  {
   "cell_type": "markdown",
   "id": "c1c8e25e",
   "metadata": {},
   "source": [
    "Cabe ressaltar que o código foi feito com a ajuda do curso “Processamento de Dados de Satélites Geoestacionários com Python” fornecido pelo INPE (Instituto Nacional de Pesquisas Espaciais)."
   ]
  }
 ],
 "metadata": {
  "kernelspec": {
   "display_name": "Python 3 (ipykernel)",
   "language": "python",
   "name": "python3"
  },
  "language_info": {
   "codemirror_mode": {
    "name": "ipython",
    "version": 3
   },
   "file_extension": ".py",
   "mimetype": "text/x-python",
   "name": "python",
   "nbconvert_exporter": "python",
   "pygments_lexer": "ipython3",
   "version": "3.9.12"
  }
 },
 "nbformat": 4,
 "nbformat_minor": 5
}
