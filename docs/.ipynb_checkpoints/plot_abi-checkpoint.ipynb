{
 "cells": [
  {
   "cell_type": "markdown",
   "id": "cd983ea5",
   "metadata": {},
   "source": [
    "# Plot ABI \n",
    "\n",
    "## Para que serve?\n",
    "\n",
    "Código para realizar o download de arquivos NetCDF (nc) do tipo ABI de um determinado dia, hora e região geográfica. É feito um tratamento dos dados, resultando em um plot das informações em uma imagem png. Para exemplificar, nesse código foi utilizado o produto de temperatura da superfície (LST), o qual não é utilizado no projeto GaiaSenses, mas dessa forma foi possível mostrar a generalidade do código (funciona para a maioria dos produtos ABI), ressaltando o que deve ser alterado caso altere o produto. \n",
    "\n",
    "## Bibliotecas necessárias:"
   ]
  },
  {
   "cell_type": "code",
   "execution_count": null,
   "id": "4d3c51c2",
   "metadata": {},
   "outputs": [],
   "source": [
    "# Required modules\n",
    "from netCDF4 import Dataset                     # Read / Write NetCDF4 files\n",
    "import matplotlib.pyplot as plt                 # Plotting library\n",
    "from datetime import datetime                   # Basic Dates and time types\n",
    "import cartopy, cartopy.crs as ccrs             # Plot maps\n",
    "import os                                       # Miscellaneous operating system interfaces\n",
    "from osgeo import gdal                          # Python bindings for GDAL\n",
    "from osgeo import osr                           # Python bindings for GDAL\n",
    "import numpy as np                              # Scientific computing with Python\n",
    "from matplotlib import cm                       # Colormap handling utilities\n",
    "import cartopy.io.shapereader as shpreader      # Import shapefiles\n",
    "import boto3                                    # Amazon Web Services (AWS) SDK for Python\n",
    "from botocore import UNSIGNED                   # boto3 config\n",
    "from botocore.config import Config              # boto3 config\n",
    "from PIL import Image\n",
    "gdal.PushErrorHandler('CPLQuietErrorHandler')   # Ignore GDAL warnings"
   ]
  },
  {
   "cell_type": "markdown",
   "id": "50be4f4e",
   "metadata": {},
   "source": [
    "## Detalhando o código...\n",
    "\n",
    "Abaixo temos a função para mudar a projeção cartográfica de acordo com a extensão desejada:"
   ]
  },
  {
   "cell_type": "code",
   "execution_count": null,
   "id": "8c9b9f3b",
   "metadata": {},
   "outputs": [],
   "source": [
    "def reproject(file_name, ncfile, array, extent, undef):\n",
    "\n",
    "    # Read the original file projection and configure the output projection\n",
    "    source_prj = osr.SpatialReference()\n",
    "    source_prj.ImportFromProj4(ncfile.GetProjectionRef())\n",
    "    target_prj = osr.SpatialReference()\n",
    "    target_prj.ImportFromProj4(\"+proj=longlat +ellps=WGS84 +datum=WGS84 +no_defs\")\n",
    "   \n",
    "    # Reproject the data\n",
    "    GeoT = ncfile.GetGeoTransform()\n",
    "    driver = gdal.GetDriverByName('MEM')\n",
    "    raw = driver.Create('raw', array.shape[0], array.shape[1], 1, gdal.GDT_Float32)\n",
    "    raw.SetGeoTransform(GeoT)\n",
    "    raw.GetRasterBand(1).WriteArray(array)\n",
    "\n",
    "    # Define the parameters of the output file  \n",
    "    kwargs = {'format': 'netCDF', \\\n",
    "            'srcSRS': source_prj, \\\n",
    "            'dstSRS': target_prj, \\\n",
    "            'outputBounds': (extent[0], extent[3], extent[2], extent[1]), \\\n",
    "            'outputBoundsSRS': target_prj, \\\n",
    "            'outputType': gdal.GDT_Float32, \\\n",
    "            'srcNodata': undef, \\\n",
    "            'dstNodata': 'nan', \\\n",
    "            'resampleAlg': gdal.GRA_NearestNeighbour}\n",
    "\n",
    "    # Write the reprojected file on disk\n",
    "    gdal.Warp(file_name, raw, **kwargs)"
   ]
  },
  {
   "cell_type": "markdown",
   "id": "4d20c831",
   "metadata": {},
   "source": [
    "A seguir, temos a função para download do arquivo nc, faz-se uma conexão com o servidor da Amazon Web Services através da biblioteca boto3, e então baixa-se o arquivo buscando-o pelo nome e data escolhida."
   ]
  },
  {
   "cell_type": "code",
   "execution_count": null,
   "id": "0363c420",
   "metadata": {},
   "outputs": [],
   "source": [
    "def download_PROD(yyyymmddhhmn, product_name, path_dest, bucket_name):\n",
    "\n",
    "  os.makedirs(path_dest, exist_ok=True)\n",
    "\n",
    "  year = datetime.strptime(yyyymmddhhmn, '%Y%m%d%H%M').strftime('%Y')\n",
    "  day_of_year = datetime.strptime(yyyymmddhhmn, '%Y%m%d%H%M').strftime('%j')\n",
    "  hour = datetime.strptime(yyyymmddhhmn, '%Y%m%d%H%M').strftime('%H')\n",
    "  min = datetime.strptime(yyyymmddhhmn, '%Y%m%d%H%M').strftime('%M')\n",
    "\n",
    "  # Initializes the S3 client\n",
    "  s3_client = boto3.client('s3', config=Config(signature_version=UNSIGNED))\n",
    "\n",
    "  # File structure\n",
    "  prefix = f'{product_name}/{year}/{day_of_year}/{hour}/OR_{product_name}-M6_G16_s{year}{day_of_year}{hour}{min}'\n",
    "\n",
    "  # Seach for the file on the server\n",
    "  s3_result = s3_client.list_objects_v2(Bucket=bucket_name, Prefix=prefix, Delimiter = \"/\")\n",
    "\n",
    "  # Check if there are files available\n",
    "  if 'Contents' not in s3_result: \n",
    "    # There are no files\n",
    "    print(f'No files found for the date: {yyyymmddhhmn}, Product-{product_name}')\n",
    "    return -1\n",
    "  else:\n",
    "    # There are files\n",
    "    for obj in s3_result['Contents']: \n",
    "      key = obj['Key']\n",
    "      # Print the file name\n",
    "      file_name = key.split('/')[-1].split('.')[0]\n",
    "\n",
    "      # Download the file\n",
    "      if os.path.exists(f'{path_dest}/{file_name}.nc'):\n",
    "        print(f'File {path_dest}/{file_name}.nc exists')\n",
    "      else:\n",
    "        print(f'Downloading file {path_dest}/{file_name}.nc')\n",
    "        s3_client.download_file(bucket_name, key, f'{path_dest}/{file_name}.nc')\n",
    "  return f'{file_name}'"
   ]
  },
  {
   "cell_type": "markdown",
   "id": "25e5e422",
   "metadata": {},
   "source": [
    "Primeiramente, define-se algumas variáveis:\n",
    "- input: diretório em que ficará o arquivo nc a ser baixado\n",
    "- output: diretório em que ficará o arquivo nc reprojetado e a imagem gerada do plot\n",
    "- extent: recorte da extensão desejada, deve-se colocar a mínima longitude, mínima latitude, máxima longitude e máxima latitude, respectivamente. Os valores abaixo são do recorte do Brasil\n",
    "- bucket_name: nome do satélite \n",
    "- product_name: nome do produto desejado, deve ser escrito exatamente como no site da Amazon (servidor utilizado)\n",
    "- var: variável desejada do produto. É possível visualizar as variáveis disponíveis extraindo o conteúdo do arquivo nc, o que pode ser feito com Matlab (buscar pelo comando ncdisp)\n",
    "- rate: caso haja alguma taxa sendo avaliada, pode-se colocar como nome para legenda \n",
    "- title: título da imagem\n",
    "\n",
    "As informações usadas nesse código são voltadas para o produto da temperatura de superfície Land Surface Temperature ('ABI-L2-LSTF'), sendo a variável a própria temperatura ('LST'). Contudo, o código pode ser adaptado para outros produtos que sejam do tipo ABI, que seguem esse mesmo modelo, seria apenas necessário trocar o product_name e a var."
   ]
  },
  {
   "cell_type": "code",
   "execution_count": null,
   "id": "4f238bab",
   "metadata": {},
   "outputs": [],
   "source": [
    "# Input and output directories\n",
    "input = \"Samples\"; os.makedirs(input, exist_ok=True)\n",
    "output = \"Output\"; os.makedirs(output, exist_ok=True)\n",
    "\n",
    "# Desired data:\n",
    "extent = [-75.0, -34, -34, 5.5] # Min lon, Min lat, Max lon, Max lat\n",
    "bucket_name = 'noaa-goes16'\n",
    "product_name = 'ABI-L2-LSTF'\n",
    "var = 'LST'\n",
    "rate = \"\"\n",
    "title = \"\""
   ]
  },
  {
   "cell_type": "markdown",
   "id": "ddb70fc6",
   "metadata": {},
   "source": [
    "Arquivos nc geralmente são organizados em uma matriz multidimensional, cujo tamanho é dado pelo próprio arquivo (pode ser obtido extraindo seu conteúdo, usualmente o cabeçalho). Grande parte dos produtos ABI trabalhados nesse projeto possuem o tamanho (5424,5424), mas isso não é uma regra! Note que o produto da temperatura de superfície possue um tamanho diferente (1086,1086), ou seja, sempre deve-se consultar isso no arquivo nc e alterar no código caso necessário. "
   ]
  },
  {
   "cell_type": "code",
   "execution_count": null,
   "id": "ebf02727",
   "metadata": {},
   "outputs": [],
   "source": [
    "#array = np.zeros((5424,5424))\n",
    "array = np.zeros((1086,1086))"
   ]
  },
  {
   "cell_type": "markdown",
   "id": "e52d8ccf",
   "metadata": {},
   "source": [
    "Por padrão o código baixaria o último produto disponível, que para o tipo ABI geralmente há um intervalo de 10 minutos, tal é a conta e formatação feita com a biblioteca datetime para a variável yyyymmddhhmn abaixo. Contudo, isso não é uma regra para todos os produtos! A saber, o produto LST (exemplo que está sendo trabalhado nesse código) possue apenas um único produto por hora, então o minuto sempre será '00', por isso há uma linha file_name comentada e na outra a data foi colocada manualmente, respeitando essa condição. Ou seja, sempre deve-se conferir no [site de download](https://home.chpc.utah.edu/~u0553130/Brian_Blaylock/cgi-bin/goes16_download.cgi?source=aws&satellite=noaa-goes16&domain=C&product=ABI-L2-LST&date=2022-07-19&hour=16) qual é o intervalo de cada produto."
   ]
  },
  {
   "cell_type": "code",
   "execution_count": null,
   "id": "32c6bc46",
   "metadata": {},
   "outputs": [],
   "source": [
    "minute = int(datetime.now().strftime('%M'))\n",
    "yyyymmddhhmn = datetime.now().strftime('%Y%m%d%H' + str(minute - (minute % 10))) \n",
    "\n",
    "# Download and open the file\n",
    "file_name = download_PROD(\"201908201200\", product_name, input, bucket_name)\n",
    "#file_name = download_PROD(yyyymmddhhmn, product_name, input, bucket_name)"
   ]
  },
  {
   "cell_type": "markdown",
   "id": "b3950833",
   "metadata": {},
   "source": [
    "Depois de baixado, o arquivo e sua flag de qualidade (dqf) são lidos. O dqf é útil para que trabalhemos apenas com dados válidos, por exemplo, há informações que podem ter sido encobertas por nuvens e o satélite não conseguiu ter acesso, logo tais dados estão \"poluídos\" e devem ser descartados. Além disso, é aplicada a escala (dada pelo próprio arquivo) e feita a reprojeção, salvando em um novo arquivo e o carregando no código."
   ]
  },
  {
   "cell_type": "code",
   "execution_count": null,
   "id": "7b180a35",
   "metadata": {},
   "outputs": [],
   "source": [
    "img = gdal.Open(f'NETCDF:{input}/{file_name}.nc:' + var)\n",
    "dqf = gdal.Open(f'NETCDF:{input}/{file_name}.nc:DQF')\n",
    "\n",
    "# Read the header metadata\n",
    "metadata = img.GetMetadata()\n",
    "scale = float(metadata.get(var + '#scale_factor'))\n",
    "offset = float(metadata.get(var + '#add_offset'))\n",
    "undef = float(metadata.get(var + '#_FillValue'))\n",
    "dtime = metadata.get('NC_GLOBAL#time_coverage_start')\n",
    "unit = metadata.get(var + '#units')\n",
    "\n",
    "# Load the data\n",
    "ds = img.ReadAsArray(0, 0, img.RasterXSize, img.RasterYSize).astype(float)\n",
    "ds_dqf = dqf.ReadAsArray(0, 0, dqf.RasterXSize, dqf.RasterYSize).astype(float)\n",
    "\n",
    "# Remove undef\n",
    "ds[ds == undef] = np.nan\n",
    "\n",
    "# Apply the scale and offset \n",
    "ds = (ds * scale + offset) \n",
    "\n",
    "# Apply NaN's where the quality flag is greater than 1\n",
    "ds[ds_dqf > 1] = np.nan\n",
    "\n",
    "# Reproject the file\n",
    "array = np.nansum(np.dstack((array, ds)),2)\n",
    "filename = f'{output}/{product_name}_{yyyymmddhhmn}.nc'\n",
    "reproject(filename, img, array, extent, undef)\n",
    "\n",
    "# Open the reprojected GOES-R image\n",
    "file = Dataset(filename)\n",
    "data = file.variables['Band1'][:] \n",
    "data[data < 23] = np.nan"
   ]
  },
  {
   "cell_type": "markdown",
   "id": "fbb6573b",
   "metadata": {},
   "source": [
    "Assim, são colocadas as configurações do plot da imagem, como tamanho, quantidade de pixels, extensão geográfica, etc."
   ]
  },
  {
   "cell_type": "code",
   "execution_count": null,
   "id": "821264a1",
   "metadata": {},
   "outputs": [],
   "source": [
    "# Choose the plot size (width x height, in inches)\n",
    "dpi = 125\n",
    "plt.figure(figsize=(data.shape[1]/float(dpi),data.shape[0]/float(dpi)), dpi=dpi)\n",
    "\n",
    "# Use the Geostationary projection in cartopy\n",
    "ax = plt.axes(projection=ccrs.PlateCarree())\n",
    "\n",
    "# Define the image extent\n",
    "img_extent = [extent[0], extent[2], extent[1], extent[3]]\n",
    " \n",
    "# Modify the colormap to zero values are white\n",
    "colormap = cm.get_cmap('jet', 240)\n",
    "newcolormap = colormap(np.linspace(0, 1, 240))\n",
    "newcolormap[:1, :] = np.array([1, 1, 1, 1])\n",
    "cmap = cm.colors.ListedColormap(newcolormap)\n",
    "\n",
    "# Plot the image\n",
    "img = ax.imshow(data, vmin=0, vmax=150, cmap=cmap, origin='upper', extent=img_extent)"
   ]
  },
  {
   "cell_type": "markdown",
   "id": "71f6b87f",
   "metadata": {},
   "source": [
    "Também são feitas algumas outras configurações de estilo, como shapefile, que é um arquivo a parte que coloca o desenho do contorno dos estados do Brasil (no caso), de acordo com a cor e tamanho desejados, mas lembre-se que este deve estar na mesma pasta do código (ou indicar outro diretório) para funcionar. Também são adicionadas linhas de fronteira, bordas, linhas de grade e um colorbar (legenda/escala da taxa sendo avaliada), esses podem ser configurados com cor, grossura, formato, entre outros. Há algumas linhas comentadas, que podem ser adicionadas caso desejado, por exemplo o título da imagem. Esse é um exemplo de estética do plot que foi satisfatório, mas que pode ser alterado conforme outras preferências."
   ]
  },
  {
   "cell_type": "code",
   "execution_count": null,
   "id": "0cb5c29b",
   "metadata": {},
   "outputs": [],
   "source": [
    "# Add a shapefile\n",
    "# https://geoftp.ibge.gov.br/organizacao_do_territorio/malhas_territoriais/malhas_municipais/municipio_2019/Brasil/BR/br_unidades_da_federacao.zip\n",
    "shapefile = list(shpreader.Reader('BR_UF_2019.shp').geometries())\n",
    "ax.add_geometries(shapefile, ccrs.PlateCarree(), edgecolor='black',facecolor='none', linewidth=0.3)\n",
    "\n",
    "# Add coastlines, borders and gridlines\n",
    "ax.coastlines(resolution='10m', color='black', linewidth=0.8)\n",
    "ax.add_feature(cartopy.feature.BORDERS, edgecolor='black', linewidth=0.5)\n",
    "gl = ax.gridlines(crs=ccrs.PlateCarree(), color='gray', alpha=1.0, linestyle='--', linewidth=0.25, xlocs=np.arange(-180, 180, 5), ylocs=np.arange(-90, 90, 5), draw_labels=True)\n",
    "gl.top_labels = False\n",
    "gl.right_labels = False\n",
    " \n",
    "# Add a colorbar\n",
    "plt.colorbar(img, label=rate, extend='max', orientation='horizontal', pad=0.05, fraction=0.05)\n",
    "\n",
    "# Add a title\n",
    "#plt.title(title, fontweight='bold', fontsize=10, loc='left')\n",
    "#plt.title(datetime.strptime(yyyymmddhhmn, '%Y%m%d%H%M').strftime('%Y-%m-%d %H:%M'), fontsize=10, loc='right')"
   ]
  },
  {
   "cell_type": "markdown",
   "id": "6d2cf4c8",
   "metadata": {},
   "source": [
    "Por fim, a imagem é salva no formato png e mostrada na tela."
   ]
  },
  {
   "cell_type": "code",
   "execution_count": null,
   "id": "dfd6f576",
   "metadata": {},
   "outputs": [],
   "source": [
    "# Save the image\n",
    "plt.savefig(f'{output}/{product_name}_{yyyymmddhhmn}.png') \n",
    "\n",
    "# Show the image\n",
    "plt.show()"
   ]
  },
  {
   "cell_type": "markdown",
   "id": "e45b9ed5",
   "metadata": {},
   "source": [
    "Cabe ressaltar que o código foi feito com a ajuda do curso “Processamento de Dados de Satélites Geoestacionários com Python” fornecido pelo INPE (Instituto Nacional de Pesquisas Espaciais)."
   ]
  }
 ],
 "metadata": {
  "kernelspec": {
   "display_name": "Python 3 (ipykernel)",
   "language": "python",
   "name": "python3"
  },
  "language_info": {
   "codemirror_mode": {
    "name": "ipython",
    "version": 3
   },
   "file_extension": ".py",
   "mimetype": "text/x-python",
   "name": "python",
   "nbconvert_exporter": "python",
   "pygments_lexer": "ipython3",
   "version": "3.9.12"
  }
 },
 "nbformat": 4,
 "nbformat_minor": 5
}
