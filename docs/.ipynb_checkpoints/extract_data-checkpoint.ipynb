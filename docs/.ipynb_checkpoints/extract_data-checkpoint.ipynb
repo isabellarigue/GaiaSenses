{
 "cells": [
  {
   "cell_type": "markdown",
   "id": "265762b3",
   "metadata": {},
   "source": [
    "# Extract Data\n",
    "\n",
    "## Para que serve?\n",
    "\n",
    "Código para extrair o valor de um produto em uma determinada coordenda geográfica. Por exemplo, caso queira a quantidade de precipitação (produto das chuvas) em uma dada latitude e longitude específica. Testado apenas para alguns produtos do tipo ABI, demais casos provavelmente deverão ser feitas adaptações no código.  \n",
    "\n",
    "\n",
    "## Bibliotecas necessárias:"
   ]
  },
  {
   "cell_type": "code",
   "execution_count": null,
   "id": "987fb41e",
   "metadata": {},
   "outputs": [],
   "source": [
    "# Required modules\n",
    "from datetime import datetime                   # Basic Dates and time types\n",
    "import os                                       # Miscellaneous operating system interfaces\n",
    "from osgeo import osr                           # Python bindings for GDAL\n",
    "from osgeo import gdal                          # Python bindings for GDAL\n",
    "import numpy as np                              # Scientific computing with Python\n",
    "import boto3                                    # Amazon Web Services (AWS) SDK for Python\n",
    "from botocore import UNSIGNED                   # boto3 config\n",
    "from botocore.config import Config              # boto3 config\n",
    "gdal.PushErrorHandler('CPLQuietErrorHandler')   # Ignore GDAL warnings"
   ]
  },
  {
   "cell_type": "markdown",
   "id": "11acf40a",
   "metadata": {},
   "source": [
    "## Detalhando o código...\n",
    "\n",
    "Abaixo temos a função para mudar a projeção cartográfica de acordo com a extensão desejada:"
   ]
  },
  {
   "cell_type": "code",
   "execution_count": null,
   "id": "24e6c79c",
   "metadata": {},
   "outputs": [],
   "source": [
    "def reproject(file_name, ncfile, array, extent, undef):\n",
    "\n",
    "    # Read the original file projection and configure the output projection\n",
    "    source_prj = osr.SpatialReference()\n",
    "    source_prj.ImportFromProj4(ncfile.GetProjectionRef())\n",
    "    target_prj = osr.SpatialReference()\n",
    "    target_prj.ImportFromProj4(\"+proj=longlat +ellps=WGS84 +datum=WGS84 +no_defs\")\n",
    "   \n",
    "    # Reproject the data\n",
    "    GeoT = ncfile.GetGeoTransform()\n",
    "    driver = gdal.GetDriverByName('MEM')\n",
    "    raw = driver.Create('raw', array.shape[0], array.shape[1], 1, gdal.GDT_Float32)\n",
    "    raw.SetGeoTransform(GeoT)\n",
    "    raw.GetRasterBand(1).WriteArray(array)\n",
    "\n",
    "    # Define the parameters of the output file  \n",
    "    kwargs = {'format': 'netCDF', \\\n",
    "            'srcSRS': source_prj, \\\n",
    "            'dstSRS': target_prj, \\\n",
    "            'outputBounds': (extent[0], extent[3], extent[2], extent[1]), \\\n",
    "            'outputBoundsSRS': target_prj, \\\n",
    "            'outputType': gdal.GDT_Float32, \\\n",
    "            'srcNodata': undef, \\\n",
    "            'dstNodata': 'nan', \\\n",
    "            'resampleAlg': gdal.GRA_NearestNeighbour}\n",
    "\n",
    "    # Write the reprojected file on disk\n",
    "    gdal.Warp(file_name, raw, **kwargs)"
   ]
  },
  {
   "cell_type": "markdown",
   "id": "02303f30",
   "metadata": {},
   "source": [
    "A seguir, temos a função para download do arquivo nc, faz-se uma conexão com o servidor da Amazon Web Services através da biblioteca boto3, e então baixa-se o arquivo buscando-o pelo nome e data escolhida."
   ]
  },
  {
   "cell_type": "code",
   "execution_count": null,
   "id": "c66f5e6c",
   "metadata": {},
   "outputs": [],
   "source": [
    "def download_PROD(yyyymmddhhmn, product_name, path_dest, bucket_name):\n",
    "\n",
    "  os.makedirs(path_dest, exist_ok=True)\n",
    "\n",
    "  year = datetime.strptime(yyyymmddhhmn, '%Y%m%d%H%M').strftime('%Y')\n",
    "  day_of_year = datetime.strptime(yyyymmddhhmn, '%Y%m%d%H%M').strftime('%j')\n",
    "  hour = datetime.strptime(yyyymmddhhmn, '%Y%m%d%H%M').strftime('%H')\n",
    "  min = datetime.strptime(yyyymmddhhmn, '%Y%m%d%H%M').strftime('%M')\n",
    "\n",
    "  # Initializes the S3 client\n",
    "  s3_client = boto3.client('s3', config=Config(signature_version=UNSIGNED))\n",
    "\n",
    "  # File structure\n",
    "  prefix = f'{product_name}/{year}/{day_of_year}/{hour}/OR_{product_name}-M6_G16_s{year}{day_of_year}{hour}{min}'\n",
    "\n",
    "  # Seach for the file on the server\n",
    "  s3_result = s3_client.list_objects_v2(Bucket=bucket_name, Prefix=prefix, Delimiter = \"/\")\n",
    "\n",
    "  # Check if there are files available\n",
    "  if 'Contents' not in s3_result: \n",
    "    # There are no files\n",
    "    print(f'No files found for the date: {yyyymmddhhmn}, Product-{product_name}')\n",
    "    return -1\n",
    "  else:\n",
    "    # There are files\n",
    "    for obj in s3_result['Contents']: \n",
    "      key = obj['Key']\n",
    "      # Print the file name\n",
    "      file_name = key.split('/')[-1].split('.')[0]\n",
    "\n",
    "      # Download the file\n",
    "      if os.path.exists(f'{path_dest}/{file_name}.nc'):\n",
    "        print(f'File {path_dest}/{file_name}.nc exists')\n",
    "      else:\n",
    "        print(f'Downloading file {path_dest}/{file_name}.nc')\n",
    "        s3_client.download_file(bucket_name, key, f'{path_dest}/{file_name}.nc')\n",
    "  return f'{file_name}'"
   ]
  },
  {
   "cell_type": "markdown",
   "id": "f58f4cee",
   "metadata": {},
   "source": [
    "Primeiramente, define-se algumas variáveis:\n",
    "- input: diretório em que ficarão os arquivos nc a serem baixados\n",
    "- output: diretório em que ficarão os arquivos nc reprojetados \n",
    "- extent: recorte da extensão desejada, deve-se colocar a mínima longitude, mínima latitude, máxima longitude e máxima latitude, respectivamente. Os valores abaixo são do recorte do Brasil\n",
    "- bucket_name: nome do satélite \n",
    "- product_name: nome do produto desejado, deve ser escrito exatamente como no site da Amazon (servidor utilizado)\n",
    "- var: variável desejada do produto. É possível visualizar as variáveis disponíveis extraindo o conteúdo do arquivo nc, o que pode ser feito com Matlab (buscar pelo comando ncdisp)\n",
    "- lon: longitude na qual se deseja o valor do produto \n",
    "- lat: latitude na qual se deseja o valor do produto \n",
    "\n",
    "As informações usadas nesse código são voltadas para o produto das chuvas (\"ABI-L2-RRQPEF\"), sendo a variável a quantidade de precipitação ('RRQPE'). Contudo, o código pode ser adaptado para outros produtos que sejam do tipo ABI, que seguem esse mesmo modelo, seria apenas necessário trocar o product_name e a var."
   ]
  },
  {
   "cell_type": "code",
   "execution_count": null,
   "id": "640ba08a",
   "metadata": {},
   "outputs": [],
   "source": [
    "# Input and output directories\n",
    "input = \"Samples\"; os.makedirs(input, exist_ok=True)\n",
    "output = \"Output\"; os.makedirs(output, exist_ok=True)\n",
    "\n",
    "# Desired data:\n",
    "extent = [-75.0, -34, -34, 5.5] # Min lon, Min lat, Max lon, Max lat (values for Brazil)\n",
    "bucket_name = 'noaa-goes16'\n",
    "product_name = 'ABI-L2-RRQPEF'\n",
    "var = 'RRQPE'\n",
    "lon = -63.15\n",
    "lat = -7.603"
   ]
  },
  {
   "cell_type": "markdown",
   "id": "e61bda38",
   "metadata": {},
   "source": [
    "Arquivos nc normalmente armazenam os dados em uma matriz multidimensional, no caso dos dados desse trabalho o tamanho dessa matriz tende a ser padrão (5424,5424), mas isso também pode ser consultado dentro do cabeçalho do próprio arquivo nc. Esse código baixa o arquivo mais recente disponível no servidor, que para os produtos desse trabalho (chuvas, ventos, incêndios) o intervalo é a cada dez minutos. Caso deseje uma configuração diferente, as linhas abaixo devem ser alteradas. "
   ]
  },
  {
   "cell_type": "code",
   "execution_count": null,
   "id": "8a3a019c",
   "metadata": {},
   "outputs": [],
   "source": [
    "array = np.zeros((5424,5424))\n",
    "minute = int(datetime.now().strftime('%M'))\n",
    "yyyymmddhhmn = datetime.now().strftime('%Y%m%d%H' + str(minute - (minute % 10))) "
   ]
  },
  {
   "cell_type": "markdown",
   "id": "517c9219",
   "metadata": {},
   "source": [
    "Então, o arquivo é baixado e lido, retirando valores indefinidos e aplicando a escala (dados do próprio arquivo). Além disso, também é feita a reprojeção."
   ]
  },
  {
   "cell_type": "code",
   "execution_count": null,
   "id": "65962638",
   "metadata": {},
   "outputs": [],
   "source": [
    "# Download and open the file\n",
    "file_name = download_PROD(yyyymmddhhmn, product_name, input, bucket_name)\n",
    "img = gdal.Open(f'NETCDF:{input}/{file_name}.nc:' + var)\n",
    "dqf = gdal.Open(f'NETCDF:{input}/{file_name}.nc:DQF')\n",
    "\n",
    "# Read the header metadata\n",
    "metadata = img.GetMetadata()\n",
    "scale = float(metadata.get(var + '#scale_factor'))\n",
    "offset = float(metadata.get(var + '#add_offset'))\n",
    "undef = float(metadata.get(var + '#_FillValue'))\n",
    "dtime = metadata.get('NC_GLOBAL#time_coverage_start')\n",
    "unit = metadata.get(var + '#units')\n",
    "\n",
    "# Load the data\n",
    "ds = img.ReadAsArray(0, 0, img.RasterXSize, img.RasterYSize).astype(float)\n",
    "ds_dqf = dqf.ReadAsArray(0, 0, dqf.RasterXSize, dqf.RasterYSize).astype(float)\n",
    "\n",
    "# Remove undef\n",
    "ds[ds == undef] = np.nan\n",
    "\n",
    "# Apply the scale and offset \n",
    "ds = (ds * scale + offset)\n",
    "\n",
    "# Apply NaN's where the quality flag is greater than 1\n",
    "ds[ds_dqf > 1] = np.nan\n",
    "\n",
    "# Reproject the file\n",
    "array = np.nansum(np.dstack((array, ds)),2)\n",
    "filename = f'{output}/reproject_{yyyymmddhhmn}.nc'\n",
    "reproject(filename, img, array, extent, undef)"
   ]
  },
  {
   "cell_type": "markdown",
   "id": "2dbc340f",
   "metadata": {},
   "source": [
    "Lê-se o tamanho da matriz do novo arquivo reprojetado e carrega-se esses dados."
   ]
  },
  {
   "cell_type": "code",
   "execution_count": null,
   "id": "2804b062",
   "metadata": {},
   "outputs": [],
   "source": [
    "# Read number of cols and rows\n",
    "sat_data = gdal.Open(filename)\n",
    "ncol = sat_data.RasterXSize\n",
    "nrow = sat_data.RasterYSize\n",
    "\n",
    "# Load the data\n",
    "sat_array = sat_data.ReadAsArray(0, 0, ncol, nrow).astype(float)"
   ]
  },
  {
   "cell_type": "markdown",
   "id": "eebc9553",
   "metadata": {},
   "source": [
    "Utilizando a conta abaixo, é encontrado o valor do produto na coordenada desejada:"
   ]
  },
  {
   "cell_type": "code",
   "execution_count": null,
   "id": "34b652ff",
   "metadata": {},
   "outputs": [],
   "source": [
    "# Get geotransform\n",
    "transform = sat_data.GetGeoTransform()\n",
    "x = int((lon - transform[0]) / transform[1])\n",
    "y = int((transform[3] - lat) / -transform[5]) \n",
    "sat = sat_array[y,x]\n",
    "\n",
    "print(\"value: \", sat, unit)"
   ]
  },
  {
   "cell_type": "markdown",
   "id": "ab0110f6",
   "metadata": {},
   "source": [
    "Cabe ressaltar que o código foi feito com a ajuda do curso “Processamento de Dados de Satélites Geoestacionários com Python” fornecido pelo INPE (Instituto Nacional de Pesquisas Espaciais)."
   ]
  }
 ],
 "metadata": {
  "kernelspec": {
   "display_name": "Python 3 (ipykernel)",
   "language": "python",
   "name": "python3"
  },
  "language_info": {
   "codemirror_mode": {
    "name": "ipython",
    "version": 3
   },
   "file_extension": ".py",
   "mimetype": "text/x-python",
   "name": "python",
   "nbconvert_exporter": "python",
   "pygments_lexer": "ipython3",
   "version": "3.9.12"
  }
 },
 "nbformat": 4,
 "nbformat_minor": 5
}
