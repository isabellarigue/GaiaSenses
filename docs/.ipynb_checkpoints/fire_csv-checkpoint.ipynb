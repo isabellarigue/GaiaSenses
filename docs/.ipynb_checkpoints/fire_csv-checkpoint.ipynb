{
 "cells": [
  {
   "cell_type": "markdown",
   "id": "8c85002a",
   "metadata": {},
   "source": [
    "# Fire CSV\n",
    "\n",
    "## Para que serve?\n",
    "\n",
    "Código para realizar o download de arquivos csv com dados sobre focos de incêndio, disponibilizados no site do INPE. A partir disso, é feita uma filtragem para a região geográfica desejada e feito um plot com esses focos de incêndio. Optou-se por usar os dados fornecidos pelo [site do inpe](https://queimadas.dgi.inpe.br/queimadas/dados-abertos/), pois eram mais leves e fáceis de trabalhar, em comparação com os fornecidos no formato NetCDF no servidor da Amazon, e o resultado foi análogo.\n",
    "\n",
    "## Bibliotecas necessárias:"
   ]
  },
  {
   "cell_type": "code",
   "execution_count": null,
   "id": "320ae159",
   "metadata": {},
   "outputs": [],
   "source": [
    "import pandas as pd\n",
    "import matplotlib.pyplot as plt                       # Plotting library\n",
    "import cartopy, cartopy.crs as ccrs                   # Plot maps\n",
    "import cartopy.io.shapereader as shpreader            # Import shapefiles\n",
    "import requests"
   ]
  },
  {
   "cell_type": "markdown",
   "id": "5ef19a59",
   "metadata": {},
   "source": [
    "## Detalhando o código...\n",
    "\n",
    "Abaixo temos a função para realizar o download do arquivo csv, é bem simples, passa-se o url do site em que vai ser baixado e o endereço do local do computador em que deseja-se salvar esse arquivo. Com o uso da biblioteca requests, é feita a conexão e o download."
   ]
  },
  {
   "cell_type": "code",
   "execution_count": null,
   "id": "04065c8f",
   "metadata": {},
   "outputs": [],
   "source": [
    "# https://queimadas.dgi.inpe.br/queimadas/dados-abertos/\n",
    "\n",
    "def baixar_arquivo(url, endereco):\n",
    "    resposta = requests.get(url)\n",
    "    if resposta.status_code == requests.codes.OK:\n",
    "        with open(endereco, 'wb') as novo_arquivo:\n",
    "                novo_arquivo.write(resposta.content)"
   ]
  },
  {
   "cell_type": "markdown",
   "id": "db0d1437",
   "metadata": {},
   "source": [
    "Primeiramente, deve-se especificar alguns dados:\n",
    "- data: data desejada dos focos de incêndio, no formato 'AnoMesDia'. Cabe ressaltar que só há arquivos de no máximo um mês atrás\n",
    "- CSV_URL: url dos dados a serem baixados, por padrão está o site de queimadas do inpe, mas pode ser alterado caso necessário\n",
    "- lonW: mínima longitude\n",
    "- lonE: máxima longitude\n",
    "- latS: mínima latitude\n",
    "- latN: máxima latitude \n",
    "\n",
    "A extensão colocada abaixo é a do Brasil."
   ]
  },
  {
   "cell_type": "code",
   "execution_count": null,
   "id": "26e5c749",
   "metadata": {},
   "outputs": [],
   "source": [
    "# Especificar o dia que você quer os focos de incêndio (tem do dia anterior ao atual até um mês atras mais ou menos)\n",
    "data = '20220415' #formato AnoMesDia\n",
    "\n",
    "#Define URL dos dados a serem baixados:\n",
    "CSV_URL = 'https://queimadas.dgi.inpe.br/home/downloadfile?path=%2Fapp%2Fapi%2Fdata%2Fdados_abertos%2Ffocos%2FDiario%2Ffocos_abertos_24h_' + data + '.csv'\n",
    "\n",
    "lonW = -73.99 # Longitude Oeste.\n",
    "lonE = -33.86 # Longitude Leste.\n",
    "latS = -28.63 # Latitude Sul.\n",
    "latN = 5.29   # Latitude Norte.\n",
    "extent = [lonW, latS, lonE, latN] # Min lon, Min lat, Max lon, Max lat"
   ]
  },
  {
   "cell_type": "markdown",
   "id": "41dd08e1",
   "metadata": {},
   "source": [
    "Assim, é feito o download e o csv é lido com ajuda da biblioteca pandas. Após isso, é feita uma filtragem para separar apenas os dados que estão dentro da extensão desejada, salvando-os em um novo csv, com as informações de latitude, longitude e data do acontecimento."
   ]
  },
  {
   "cell_type": "code",
   "execution_count": null,
   "id": "07f3cc4d",
   "metadata": {},
   "outputs": [],
   "source": [
    "# Realizar o download e só então ler o arquivo:\n",
    "baixar_arquivo(CSV_URL, f'Fire/dados_focos_{data}.csv')\n",
    "df = pd.read_csv(f'Fire/dados_focos_{data}.csv')\n",
    "\n",
    "# Filtra os dados que estão dentro da extensão desejada\n",
    "df.query(f'{latN} >= lat >= {latS} \\\n",
    "            and {lonE} >= lon >= {lonW} ', inplace = True)\n",
    "\n",
    "df.to_csv(f'Fire/dados_filtrados_{data}.csv', index=False) #salva os dados filtrados em um novo csv"
   ]
  },
  {
   "cell_type": "markdown",
   "id": "9c37e88b",
   "metadata": {},
   "source": [
    "No bloco abaixo ocorrem as configurações do plot da imagem, como o tamanho, o número de pixels, etc. "
   ]
  },
  {
   "cell_type": "code",
   "execution_count": null,
   "id": "92999269",
   "metadata": {},
   "outputs": [],
   "source": [
    "# Choose the plot size (width x height, in inches)\n",
    "dpi = 125\n",
    "plt.figure(figsize=(10,10), dpi=dpi)\n",
    "\n",
    "# Use the Geostationary projection in cartopy\n",
    "ax = plt.axes(projection=ccrs.PlateCarree())\n",
    "\n",
    "# Define the image extent\n",
    "ax.set_extent([extent[0], extent[2], extent[1], extent[3]], ccrs.PlateCarree())\n",
    "\n",
    "# Define the data extent\n",
    "img_extent = [extent[0], extent[2], extent[1], extent[3]]"
   ]
  },
  {
   "cell_type": "markdown",
   "id": "da39d790",
   "metadata": {},
   "source": [
    "Aqui é interessante notar algumas configurações de estilo, como '.r' que define a cor dos focos de incêndio e o markersize que define o tamanho dos mesmos. Já shapefile é um arquivo a parte que coloca o desenho do contorno dos estados do Brasil, de acordo com a cor e tamanho desejados, mas lembre-se que este deve estar na mesma pasta do código (ou indicar outro diretório) para funcionar. Também são adicionadas linhas de fronteira, bordas e linhas de grade, as quais podem ser configuradas. Esse é um exemplo de estética do plot que foi satisfatório, mas que pode ser alterado conforme outras preferências."
   ]
  },
  {
   "cell_type": "code",
   "execution_count": null,
   "id": "e662be22",
   "metadata": {},
   "outputs": [],
   "source": [
    "# Plot\n",
    "img = ax.plot(df['lon'], df['lat'],'.r', markersize=3, transform=ccrs.PlateCarree(), alpha=1)\n",
    "\n",
    "# Add a shapefile\n",
    "# https://geoftp.ibge.gov.br/organizacao_do_territorio/malhas_territoriais/malhas_municipais/municipio_2019/Brasil/BR/br_unidades_da_federacao.zip\n",
    "shapefile = list(shpreader.Reader('BR_UF_2019.shp').geometries())\n",
    "ax.add_geometries(shapefile, ccrs.PlateCarree(), edgecolor='black',facecolor='none', linewidth=0.7)\n",
    "\n",
    "# Add coastlines, borders and gridlines\n",
    "ax.coastlines(resolution='10m', color='black', linewidth=0.8, zorder=3)\n",
    "ax.add_feature(cartopy.feature.BORDERS, edgecolor='black', linewidth=0.5, zorder=4)"
   ]
  },
  {
   "cell_type": "markdown",
   "id": "7f55962d",
   "metadata": {},
   "source": [
    "Por fim, a imagem é salva e mostrada na tela."
   ]
  },
  {
   "cell_type": "code",
   "execution_count": null,
   "id": "a3cdb200",
   "metadata": {},
   "outputs": [],
   "source": [
    "# Save the image\n",
    "plt.savefig(f'Fire/fire_inpe_{data}.png', transparent=True, bbox_inches='tight')\n",
    "\n",
    "plt.show()"
   ]
  }
 ],
 "metadata": {
  "kernelspec": {
   "display_name": "Python 3 (ipykernel)",
   "language": "python",
   "name": "python3"
  },
  "language_info": {
   "codemirror_mode": {
    "name": "ipython",
    "version": 3
   },
   "file_extension": ".py",
   "mimetype": "text/x-python",
   "name": "python",
   "nbconvert_exporter": "python",
   "pygments_lexer": "ipython3",
   "version": "3.9.12"
  }
 },
 "nbformat": 4,
 "nbformat_minor": 5
}
