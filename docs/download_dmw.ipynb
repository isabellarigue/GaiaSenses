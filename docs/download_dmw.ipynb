{
 "cells": [
  {
   "cell_type": "markdown",
   "id": "bb6d9c28",
   "metadata": {},
   "source": [
    "# Download Derived Motion Wind (DMW)\n",
    "\n",
    "## Para que serve?\n",
    "\n",
    "Código para fazer o download do produto dos ventos (ABI Derived Motion Wind), de acordo com a data selecionada. \n",
    "\n",
    "## Bibliotecas necessárias:"
   ]
  },
  {
   "cell_type": "code",
   "execution_count": null,
   "id": "a530b6fe",
   "metadata": {},
   "outputs": [],
   "source": [
    "import boto3                                    # Amazon Web Services (AWS) SDK for Python\n",
    "from botocore import UNSIGNED                   # boto3 config\n",
    "from botocore.config import Config              # boto3 config\n",
    "import os\n",
    "from datetime import datetime                   # Basic Dates and time types"
   ]
  },
  {
   "cell_type": "markdown",
   "id": "0453abaf",
   "metadata": {},
   "source": [
    "## Detalhando o código...\n",
    "\n",
    "Primeiramente, deve-se colocar algumas informações:\n",
    "- path_dest: diretório em que se deseja salvar o arquivo nc a ser baixado\n",
    "- yyyymmddhhmn: data no formato 'AnoMesDiaHoraMinuto' (lembrando que são gerados apenas 6 produtos por hora, então nem todos minutos estão disponíveis, verificar no servidor)\n",
    "- bucket_name: nome do satélite\n",
    "- product_name: nome do produto conforme está escrito no site do servidor da Amazon, nesse caso é o dos ventos 'ABI-L2-DMWF' "
   ]
  },
  {
   "cell_type": "code",
   "execution_count": null,
   "id": "15a18065",
   "metadata": {},
   "outputs": [],
   "source": [
    "path_dest = 'Samples'\n",
    "yyyymmddhhmn = '202201021000'\n",
    "bucket_name = 'noaa-goes16'\n",
    "product_name = 'ABI-L2-DMWF'"
   ]
  },
  {
   "cell_type": "markdown",
   "id": "954d92a7",
   "metadata": {},
   "source": [
    "Utilizando a biblioteca os, há uma verificação se a pasta de destino já existe, caso não exista ela é criada. Já utilizando a biblioteca datetime, a data é separada na formatação necessária para o download."
   ]
  },
  {
   "cell_type": "code",
   "execution_count": null,
   "id": "d9b2b01f",
   "metadata": {},
   "outputs": [],
   "source": [
    "os.makedirs(path_dest, exist_ok=True)\n",
    "\n",
    "year = datetime.strptime(yyyymmddhhmn, '%Y%m%d%H%M').strftime('%Y')\n",
    "day_of_year = datetime.strptime(yyyymmddhhmn, '%Y%m%d%H%M').strftime('%j')\n",
    "hour = datetime.strptime(yyyymmddhhmn, '%Y%m%d%H%M').strftime('%H')\n",
    "min = datetime.strptime(yyyymmddhhmn, '%Y%m%d%H%M').strftime('%M')"
   ]
  },
  {
   "cell_type": "markdown",
   "id": "153a3397",
   "metadata": {},
   "source": [
    "A seguir, é feito o download do arquivo nc, faz-se uma conexão com o servidor da Amazon Web Services através da biblioteca boto3, e então baixa-se o arquivo buscando-o pelo nome e data escolhida."
   ]
  },
  {
   "cell_type": "code",
   "execution_count": null,
   "id": "6bac6e9b",
   "metadata": {},
   "outputs": [],
   "source": [
    "# Initializes the S3 client\n",
    "s3_client = boto3.client('s3', config=Config(signature_version=UNSIGNED))\n",
    "\n",
    "# File structure\n",
    "prefix = f'{product_name}/{year}/{day_of_year}/{hour}/OR_{product_name}-M6C02_G16_s{year}{day_of_year}{hour}{min}' \n",
    "\n",
    "# Seach for the file on the server\n",
    "s3_result = s3_client.list_objects_v2(Bucket=bucket_name, Prefix=prefix, Delimiter = \"/\")\n",
    "\n",
    "# Check if there are files available\n",
    "if 'Contents' not in s3_result: \n",
    "    # There are no files\n",
    "    print(f'No files found for the date: {yyyymmddhhmn}, Product-{product_name}')\n",
    "else:\n",
    "# There are files\n",
    "    for obj in s3_result['Contents']: \n",
    "        key = obj['Key']\n",
    "        # Print the file name\n",
    "        file_name = key.split('/')[-1].split('.')[0]\n",
    "\n",
    "    # Download the file\n",
    "        if os.path.exists(f'{path_dest}/{file_name}.nc'):\n",
    "            print(f'File {path_dest}/{file_name}.nc exists')\n",
    "        else:\n",
    "            print(f'Downloading file {path_dest}/{file_name}.nc')\n",
    "            s3_client.download_file(bucket_name, key, f'{path_dest}/{file_name}.nc')"
   ]
  }
 ],
 "metadata": {
  "kernelspec": {
   "display_name": "Python 3 (ipykernel)",
   "language": "python",
   "name": "python3"
  },
  "language_info": {
   "codemirror_mode": {
    "name": "ipython",
    "version": 3
   },
   "file_extension": ".py",
   "mimetype": "text/x-python",
   "name": "python",
   "nbconvert_exporter": "python",
   "pygments_lexer": "ipython3",
   "version": "3.9.12"
  }
 },
 "nbformat": 4,
 "nbformat_minor": 5
}
