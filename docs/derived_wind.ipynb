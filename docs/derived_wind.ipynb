{
 "cells": [
  {
   "cell_type": "markdown",
   "id": "4be21a13",
   "metadata": {},
   "source": [
    "# Derived wind (produto dos ventos)\n",
    "\n",
    "## Para que serve?\n",
    "\n",
    "Código voltado para o tratamento do produto dos ventos (ABI Derived Motion Wind), que possui o formato NetCDF (nc). É feita uma filtragem dos dados de acordo com a extensão geográfica desejada, resultando em duas imagens: uma png com o plot das informações, utilizando flechinhas em escala que representam a direção e velocidade dos ventos; e uma imagem float (formato exr) em que cada pixel contém as informações de velocidade e direção do vento, utilizando coordenadas polares e apenas armazenando seus valores, será melhor descrito adiante.\n",
    "\n",
    "## Bibliotecas necessárias:"
   ]
  },
  {
   "cell_type": "code",
   "execution_count": null,
   "id": "685cef2d",
   "metadata": {},
   "outputs": [],
   "source": [
    "# Required modules\n",
    "from netCDF4 import Dataset                           # Read / Write NetCDF4 files\n",
    "import matplotlib.pyplot as plt                       # Plotting library\n",
    "import os                                             # Miscellaneous operating system interfaces\n",
    "from osgeo import gdal                                # Python bindings for GDAL\n",
    "import numpy as np                                    # Scientific computing with Python\n",
    "from mpl_toolkits.basemap import Basemap              # Import the Basemap toolkit \n",
    "import math                                           # Import the Math package\n",
    "import numpy as np\n",
    "os.environ['OPENCV_IO_ENABLE_OPENEXR'] = 'true'\n",
    "import cv2\n",
    "gdal.PushErrorHandler('CPLQuietErrorHandler')         # Ignore GDAL warnings\n",
    "import imageio"
   ]
  },
  {
   "cell_type": "markdown",
   "id": "f049c30c",
   "metadata": {},
   "source": [
    "## Detalhando o código...\n",
    "\n",
    "Primeiramente, define-se algumas variáveis:\n",
    "- output: diretório em que serão salvas as imagens\n",
    "- extent: recorte da extensão desejada, deve-se colocar a mínima longitude, mínima latitude, máxima longitude e máxima latitude, respectivamente. Os valores abaixo são do recorte do Brasil\n",
    "- title: título da imagem png a ser gerada"
   ]
  },
  {
   "cell_type": "code",
   "execution_count": null,
   "id": "b34fe3b3",
   "metadata": {},
   "outputs": [],
   "source": [
    "# Output directory\n",
    "output = \"Output_DMW\"; os.makedirs(output, exist_ok=True)\n",
    "\n",
    "# Desired data:\n",
    "extent = [-75.0, -34, -34, 5.5] # Min lon, Min lat, Max lon, Max lat\n",
    "title = \"Derivated_Motion_Winds\""
   ]
  },
  {
   "cell_type": "markdown",
   "id": "09dddcb4",
   "metadata": {},
   "source": [
    "O arquivo nc é aberto, de acordo com o diretório passado abaixo (lembre-se de alterar conforme a pasta em que está o arquivo) e suas variáveis internas são separadas em novas variáveis no código."
   ]
  },
  {
   "cell_type": "code",
   "execution_count": null,
   "id": "3586d499",
   "metadata": {},
   "outputs": [],
   "source": [
    "# Opening the NetCDF Derivated Motion Winds\n",
    "nc = Dataset('C:\\\\Gaia Senses\\\\python_goes\\\\Samples_DMW\\\\OR_ABI-L2-DMWF-M6C14_G16_s20212810600206_e20212810609514_c20212810623429.nc') \n",
    "\n",
    "# Read the required variables: ================================================ \n",
    "pressure = nc.variables['pressure'][:]\n",
    "temperature = nc.variables['temperature'][:]\n",
    "wind_direction = nc.variables['wind_direction'][:]\n",
    "wind_speed = nc.variables['wind_speed'][:]\n",
    "lats = nc.variables['lat'][:]\n",
    "lons = nc.variables['lon'][:]"
   ]
  },
  {
   "cell_type": "markdown",
   "id": "4e809fac",
   "metadata": {},
   "source": [
    "Em seguida, é feita uma filtragem, separando os dados que estão dentro do recorte (extent) desejado, comparando se está dentro do intervalo das latitudes e longitudes máximas e mínimas."
   ]
  },
  {
   "cell_type": "code",
   "execution_count": null,
   "id": "fe5b0f8f",
   "metadata": {},
   "outputs": [],
   "source": [
    "# Selecting data only from the region of interest: ============================\n",
    "# Detect Latitude lower and upper index, according to the selected extent: \n",
    "latli = np.argmin( np.abs( lats - extent[1] ) ) # Lower index\n",
    "latui = np.argmin( np.abs( lats - extent[3] ) ) # Upper index\n",
    "\n",
    "# Detect the Longitude index:\n",
    "# Store the indexes where the lons are between the selected extent:\n",
    "lon_ind = np.where(( lons >= extent[0]) & (lons <= extent[2] ))[0]\n",
    "# Eliminate the lon indexes where we don't have the lat indexes:\n",
    "lon_ind = lon_ind[(lon_ind >= latui) & (lon_ind <= latli)]"
   ]
  },
  {
   "cell_type": "markdown",
   "id": "00cc46b4",
   "metadata": {},
   "source": [
    "Após isso, ocorre uma separação das variáveis em listas e a leitura destas como numpy arrays, utilizando a biblioteca numpy."
   ]
  },
  {
   "cell_type": "code",
   "execution_count": null,
   "id": "36fd53ce",
   "metadata": {},
   "outputs": [],
   "source": [
    "# Create the variables lists ==================================================\n",
    "pressure_a = []\n",
    "temperature_a = []\n",
    "wind_direction_a = []\n",
    "wind_speed_a = []\n",
    "lats_a = []\n",
    "lons_a = []\n",
    "\n",
    "# For each item, append the values to the respective variables ================\n",
    "for item in lon_ind:\n",
    "    lons_a.append(lons[item])\n",
    "    lats_a.append(lats[item])\n",
    "    pressure_a.append(pressure[item])\n",
    "    temperature_a.append(temperature[item])\n",
    "    wind_direction_a.append(wind_direction[item])\n",
    "    wind_speed_a.append(wind_speed[item])\n",
    "\n",
    "# Read the variables as numpy arrays\n",
    "temperature = np.asarray(temperature_a)\n",
    "wind_direction = np.asarray(wind_direction_a)\n",
    "wind_speed = np.asarray(wind_speed_a)\n",
    "lons = np.asarray(lons_a)\n",
    "lats = np.asarray(lats_a)"
   ]
  },
  {
   "cell_type": "markdown",
   "id": "8148eeb4",
   "metadata": {},
   "source": [
    "Na parte abaixo, é feita uma checagem do intervalo de pressão e definida uma cor para representar nas flechinhas. No caso, optei por deixar um único intervalo e cor, mas isso pode ser alterado caso necessário. Inclusive fiz alguns exemplos com diversos intervalos, resultando em uma imagem colorida, porém no fim não era algo que valia a pena para este projeto."
   ]
  },
  {
   "cell_type": "code",
   "execution_count": null,
   "id": "2cab32bb",
   "metadata": {},
   "outputs": [],
   "source": [
    "pressure = np.asarray(pressure_a)\n",
    "pressure_index = np.where(( pressure >= 100 ) & ( pressure <= 1000 ))[0]\n",
    "color = '#0000FF' # Blue "
   ]
  },
  {
   "cell_type": "markdown",
   "id": "37687856",
   "metadata": {},
   "source": [
    "Novamente as variáveis são separadas em listas, contendo apenas os dados do intervalo de pressão escolhido, e em seguida lidas como numpy arrays. No caso, como há apenas um intervalo de pressão que engloba tudo, essa parte é um tanto desnecessária e repetitiva, mas para o caso em que existam intervalos diferentes esta deve ser considerada, colocando em um loop externo que passe por todas as cores."
   ]
  },
  {
   "cell_type": "code",
   "execution_count": null,
   "id": "ccbc6c53",
   "metadata": {},
   "outputs": [],
   "source": [
    "# Create the variables lists (considerign only the given pressure range)\n",
    "pressure_b = []\n",
    "temperature_b = []\n",
    "wind_direction_b = []\n",
    "wind_speed_b = []\n",
    "lats_b = []\n",
    "lons_b = []\n",
    "\n",
    "# For each item, append the values to the respective variables \n",
    "for item in pressure_index:\n",
    "    lons_b.append(lons_a[item])\n",
    "    lats_b.append(lats_a[item])\n",
    "    pressure_b.append(pressure_a[item])\n",
    "    temperature_b.append(temperature_a[item])\n",
    "    wind_direction_b.append(wind_direction_a[item])\n",
    "    wind_speed_b.append(wind_speed_a[item])\n",
    "    \n",
    "# Final variables for the given pressure range\n",
    "# Read the variables as numpy arrays\n",
    "pressure = np.asarray(pressure_b)\n",
    "temperature = np.asarray(temperature_b)\n",
    "wind_direction = np.asarray(wind_direction_b)\n",
    "wind_speed = np.asarray(wind_speed_b)\n",
    "lons = np.asarray(lons_b)\n",
    "lats = np.asarray(lats_b)"
   ]
  },
  {
   "cell_type": "markdown",
   "id": "353e54aa",
   "metadata": {},
   "source": [
    "Aqui são criadas 4 listas. Duas delas são para armazenar as componentes u e v baseadas na velocidade e direção do vento, a partir dessas listas será feito o plot das flechinhas na imagem (conforme será visto adiante). Repare que todas as listas de variáveis criadas anteriormente possuem a mesma ordem, ou seja, a velocidade em wind_speed[0] corresponde a longitude lons[0] e a latitude lats[0], por exemplo. Logo, para cada item é feita a conta dos componentes u e v, baseado na seguinte [referência](https://earthscience.stackexchange.com/questions/11982/plotting-wind-barbs-in-python-no-u-v-component).\n",
    "\n",
    "Já as listas componente_x_float e componente_y_float são para gerar a imagem exr. Primeiramente, note que os dados são semelhantes a coordenadas polares, em que a velocidade (wind_speed) é o r e a direção (wind_direction) é o theta. Com isso, podemos converter esses valores para coordenadas retangulares, ficando com x e y, que são armanezados nessas listas. Lembrando que isso apenas é feito para dados não nulos (diferentes de 'nan'), caso contrário o valor zero é atribuído automaticamente."
   ]
  },
  {
   "cell_type": "code",
   "execution_count": null,
   "id": "9cbc0d53",
   "metadata": {},
   "outputs": [],
   "source": [
    "# Calculating the u and v components using the wind_speed and wind direction\n",
    "u = []\n",
    "v = []\n",
    "\n",
    "componente_x_float = []\n",
    "componente_y_float = []\n",
    "for item in range(lons.shape[0]):\n",
    "    u.append(-(wind_speed[item]) * math.sin((math.pi / 180) * wind_direction[item])) \n",
    "    v.append(-(wind_speed[item]) * math.cos((math.pi / 180) * wind_direction[item]))\n",
    "    \n",
    "    if str(wind_speed[item]) != 'nan':\n",
    "        aux_x = wind_speed[item] * math.cos(wind_direction[item]) # Polar to rectangular coordinates\n",
    "        componente_x_float.append(aux_x)\n",
    "        aux_y = wind_speed[item] * math.sin(wind_direction[item]) # Polar to rectangular coordinates\n",
    "        componente_y_float.append(aux_y)\n",
    "    else:\n",
    "        componente_x_float.append(0)\n",
    "        componente_y_float.append(0)"
   ]
  },
  {
   "cell_type": "markdown",
   "id": "66f8bdb3",
   "metadata": {},
   "source": [
    "Há uma imagem float de base (que criei a parte) que possui todas as posições zeradas. A ideia é alterar essa imagem base, mudando os valores das posições que possuem algum dado de vento, de acordo com a lista de longitudes e latitudes. Dessa forma, onde está acontecendo algo terá um dado, enquanto nos demais locais o valor será 0. Como há mais posições que não acontecem nada do que posições em que acontecem, essa foi uma maneira de otimizar a produção da imagem. \n",
    "\n",
    "A imagem que utilizei possui uma dimensão padrão de 403 x 389, caso queira diferente se atente a mudar essa informação nas contas. Então, temos que cada posição geográfica (latitude, longitude) dentro do recorte possui uma posição equivalente na imagem 403 x 389, logo é feita uma conta de escala para encontrar essa posição correspondente. Isso é feito para cada valor de latitude e longitude, modificando tal posição da imagem com os valores de x e y (mencionados no parágrafo anterior). É importante mencionar que pixel_x e pixel_y são invertidos na hora de atribuir os valores da imagem (vide código), eu não sei porquê isso acontece, mas segundo diversos testes que realizei, essa é a forma que o resultado fica coerente. Resumindo, na imagem exr o valor do pixel x é o valor de x da coordenada retangular e o valor do pixel y é o valor de y da coordenada retangular, o pixel z é zerado.\n",
    "\n",
    "Com isso, a imagem exr é gerada utilizando a biblioteca imageio."
   ]
  },
  {
   "cell_type": "code",
   "execution_count": null,
   "id": "e321eab9",
   "metadata": {},
   "outputs": [],
   "source": [
    "img = cv2.imread(\"FloatBase.exr\") # Base with all positions zeroed\n",
    "img = img.astype(np.float32)\n",
    "for i in range(lons.size):\n",
    "    pixel_x = int(((lons[i] + 75) * 403)/41) # Pixel position that refers to a certain longitude (scale)\n",
    "    if 5.5 >= lats[i] >= -34: # If it is within the latitude range\n",
    "        pixel_y = 389 - int(((lats[i] + 34) * 389)/39.5) # Pixel position that refers to a certain latitude (scale)\n",
    "        if pixel_x < 403 and pixel_y < 389: # If it is within the dimension of the image\n",
    "            img[pixel_y, pixel_x] = [componente_x_float[i], componente_y_float[i], 0] # pixel_x e pixel_y are inverted, don't know why\n",
    "\n",
    "imageio.imwrite(\"FloatImageDMW6.exr\", img)"
   ]
  },
  {
   "cell_type": "markdown",
   "id": "6b1c8719",
   "metadata": {},
   "source": [
    "Agora o foco é na imagem png, utilizando as componentes u e v, calculadas anteriormente, a função externa Basemap e os valores de longitudes e latitudes das listas, é feito o plot da imagem e das flechinhas de vento."
   ]
  },
  {
   "cell_type": "code",
   "execution_count": null,
   "id": "86cd3c49",
   "metadata": {},
   "outputs": [],
   "source": [
    "# Read the u and v components as numpy arrays\n",
    "u_comp = np.asarray(u) \n",
    "v_comp = np.asarray(v)\n",
    "bmap = Basemap(llcrnrlon=extent[0], llcrnrlat=extent[1], urcrnrlon=extent[2], urcrnrlat=extent[3], epsg=4326)\n",
    "x,y = bmap(lons, lats)\n",
    "bmap.barbs(x, y, u_comp, v_comp, length=2, pivot='middle', barbcolor=color) # Placing the barbs in the image to be plotted\n",
    "\n",
    "plt.axis('off')"
   ]
  },
  {
   "cell_type": "markdown",
   "id": "37382fff",
   "metadata": {},
   "source": [
    "Por fim, a imagem png é salva e mostrada na tela."
   ]
  },
  {
   "cell_type": "code",
   "execution_count": null,
   "id": "33405399",
   "metadata": {},
   "outputs": [],
   "source": [
    "# Save the image\n",
    "plt.savefig(f'C:\\\\Gaia Senses\\\\python_goes\\\\{output}\\\\{title}{i}.png', transparent=True, bbox_inches='tight')\n",
    "\n",
    "# Show the image\n",
    "plt.show()"
   ]
  },
  {
   "cell_type": "markdown",
   "id": "17a8e50a",
   "metadata": {},
   "source": [
    "Cabe ressaltar que o código foi feito com a ajuda do curso “Processamento de Dados de Satélites Geoestacionários com Python” fornecido pelo INPE (Instituto Nacional de Pesquisas Espaciais)."
   ]
  }
 ],
 "metadata": {
  "kernelspec": {
   "display_name": "Python 3 (ipykernel)",
   "language": "python",
   "name": "python3"
  },
  "language_info": {
   "codemirror_mode": {
    "name": "ipython",
    "version": 3
   },
   "file_extension": ".py",
   "mimetype": "text/x-python",
   "name": "python",
   "nbconvert_exporter": "python",
   "pygments_lexer": "ipython3",
   "version": "3.9.12"
  }
 },
 "nbformat": 4,
 "nbformat_minor": 5
}
